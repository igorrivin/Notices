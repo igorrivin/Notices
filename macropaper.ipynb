{
 "cells": [
  {
   "cell_type": "markdown",
   "metadata": {
    "colab_type": "text",
    "id": "UMswMcZ6mcS9"
   },
   "source": [
    "# Adventures in Financial Time Series"
   ]
  },
  {
   "cell_type": "markdown",
   "metadata": {
    "colab_type": "text",
    "id": "edG5qmg2mcS-"
   },
   "source": [
    "## Igor Rivin"
   ]
  },
  {
   "cell_type": "markdown",
   "metadata": {
    "colab_type": "text",
    "id": "VGzWvApSmcS_"
   },
   "source": [
    "### Abstract"
   ]
  },
  {
   "cell_type": "markdown",
   "metadata": {
    "colab_type": "text",
    "id": "MG1LLQXPmcTA"
   },
   "source": [
    "In this article we examine some macroeconomic data over the last several decades, and see if we can we can find anything interesting. In particular, we investigate how macroeconomic data affects equity prices. Our source of macroeconomic data is the St Louis Fed, via their very nice [API](http://api.stlouisfed.org). Our source of end of day S&P index data is [Yahoo! Finance](http://finance.yahoo.com). Our source of older (lower frequency) S&P price data, as well as dividends data, corporate earnings, and the CPI is [Robert Shillers wonderful resource](http://www.econ.yale.edu/~shiller/data.htm)"
   ]
  },
  {
   "cell_type": "markdown",
   "metadata": {
    "colab_type": "text",
    "id": "iy4O7Cg7mcTA"
   },
   "source": [
    "## Introduction"
   ]
  },
  {
   "cell_type": "markdown",
   "metadata": {
    "colab_type": "text",
    "id": "O9VwHWSgmcTB"
   },
   "source": [
    "This paper is completely self-contained, First, we will set up our tools, then we will download and comment on macroeconoic data. Then, we will use some simple (but surprisingly effective) methods to develop a macro-based strategy, and then we will take a look at the longer-term data and make a couple of random comments."
   ]
  },
  {
   "cell_type": "markdown",
   "metadata": {
    "colab_type": "text",
    "id": "fTOfgOhzmcTB"
   },
   "source": [
    "## Tools"
   ]
  },
  {
   "cell_type": "markdown",
   "metadata": {
    "colab_type": "text",
    "id": "TxVi9LeGmcTC"
   },
   "source": [
    "For our first act we will set up our tools. Luckily, a lot of the statistical analysis and graphics tools come as nicely packaged libraries in **Python**. Let's load them."
   ]
  },
  {
   "cell_type": "markdown",
   "metadata": {
    "colab_type": "text",
    "id": "siHPV0ckmcTC"
   },
   "source": [
    "import os\n",
    "import time\n",
    "import pandas as pd\n",
    "import numpy as np\n",
    "import sklearn.linear_model\n",
    "from sklearn.preprocessing import MinMaxScaler\n",
    "import seaborn as sns\n",
    "import matplotlib.pyplot as plt\n",
    "import sys"
   ]
  },
  {
   "cell_type": "code",
   "execution_count": 1,
   "metadata": {
    "colab": {},
    "colab_type": "code",
    "id": "Jl-AWu60mcTD"
   },
   "outputs": [],
   "source": [
    "%matplotlib inline"
   ]
  },
  {
   "cell_type": "code",
   "execution_count": 6,
   "metadata": {
    "colab": {},
    "colab_type": "code",
    "id": "xX70p-KQm28Q"
   },
   "outputs": [],
   "source": [
    "import pandas as pd\n",
    "import numpy as np\n",
    "import matplotlib.pyplot as plt\n",
    "import sklearn\n",
    "import sklearn.linear_model\n",
    "from sklearn.preprocessing import MinMaxScaler"
   ]
  },
  {
   "cell_type": "code",
   "execution_count": 1,
   "metadata": {
    "colab": {},
    "colab_type": "code",
    "id": "UFa-Ng5amcTF"
   },
   "outputs": [],
   "source": [
    "from IPython.display import display, HTML"
   ]
  },
  {
   "cell_type": "markdown",
   "metadata": {
    "colab_type": "text",
    "id": "LcYwrZc-mcTG"
   },
   "source": [
    "Now we write the one home-brew function, which allows us to read a time series from the St Louis Fed, extract the right fields, and give it a name. We arbitrarily pick a start date (most Fed time series go to the mid-fifties or late forties, so our date of 7/1/1954 is in that range)."
   ]
  },
  {
   "cell_type": "code",
   "execution_count": 2,
   "metadata": {
    "colab": {},
    "colab_type": "code",
    "id": "DJhEbYqyd8g8"
   },
   "outputs": [],
   "source": [
    "theurl = \"https://raw.githubusercontent.com/igorrivin/macro/master/%5EGSPC.csv\""
   ]
  },
  {
   "cell_type": "code",
   "execution_count": 3,
   "metadata": {
    "colab": {},
    "colab_type": "code",
    "id": "XAS2loGNmcTH"
   },
   "outputs": [],
   "source": [
    "myapikey = '91c6e96d21f86b0932368859c1f6bc3f'"
   ]
  },
  {
   "cell_type": "code",
   "execution_count": 4,
   "metadata": {
    "colab": {},
    "colab_type": "code",
    "id": "mLkKkrSWmcTI"
   },
   "outputs": [],
   "source": [
    "def read_series(sname, colname=None, startdate='1954-07-01', api_key= myapikey):\n",
    "    if colname is None:\n",
    "        colname = sname\n",
    "    rootst = 'https://api.stlouisfed.org/fred/series/observations?series_id='\n",
    "    endstr = '&api_key='+ api_key + '&file_type=json'\n",
    "    theurl = rootst + sname + endstr\n",
    "    theout = pd.read_json(theurl)\n",
    "    thevals = pd.DataFrame(list(theout.observations))\n",
    "    thevals.date = pd.to_datetime(thevals.date)\n",
    "    thevals.set_index('date', inplace=True)\n",
    "    alldays = pd.date_range(start=startdate, end=pd.Timestamp.today())\n",
    "    thevals = thevals.reindex(alldays, method='ffill')\n",
    "    thevals = thevals[['value']]\n",
    "    thevals.value = pd.to_numeric(thevals.value, errors='coerce')\n",
    "    thevals.columns = [colname]\n",
    "    return thevals"
   ]
  },
  {
   "cell_type": "markdown",
   "metadata": {
    "colab_type": "text",
    "id": "6lfI4iOmmcTK"
   },
   "source": [
    "First, we read the macro data from the St Louis Fed database, starting with the historic Fed Funds rate."
   ]
  },
  {
   "cell_type": "markdown",
   "metadata": {
    "colab_type": "text",
    "id": "sqbE4PszmcTK"
   },
   "source": [
    "### Fed Funds Rate"
   ]
  },
  {
   "cell_type": "code",
   "execution_count": 7,
   "metadata": {
    "colab": {},
    "colab_type": "code",
    "id": "1DpZpY3jmcTL"
   },
   "outputs": [],
   "source": [
    "ff = read_series('FEDFUNDS')"
   ]
  },
  {
   "cell_type": "code",
   "execution_count": 8,
   "metadata": {
    "colab": {
     "base_uri": "https://localhost:8080/",
     "height": 286
    },
    "colab_type": "code",
    "id": "KKTbnOXfmcTM",
    "outputId": "ba1024e6-bbb3-42ee-9827-ec8b9a643940"
   },
   "outputs": [
    {
     "data": {
      "text/plain": [
       "<matplotlib.axes._subplots.AxesSubplot at 0x7f853a57a450>"
      ]
     },
     "execution_count": 8,
     "metadata": {},
     "output_type": "execute_result"
    },
    {
     "data": {
      "image/png": "[encoded data removed]",
      "text/plain": [
       "<Figure size 432x288 with 1 Axes>"
      ]
     },
     "metadata": {
      "needs_background": "light"
     },
     "output_type": "display_data"
    }
   ],
   "source": [
    "ff.plot()"
   ]
  },
  {
   "cell_type": "markdown",
   "metadata": {
    "colab_type": "text",
    "id": "MUHUPheemcTP"
   },
   "source": [
    "The only thing that seems clear from the plot above is that the Fed (with all due respect) does not quite know what it is doing and is flying by the seat of the pants. Notice that what seems to happen is that the Fed spikes the funds rate, this causes a recession (by popping whatever the going asset bubble is), and then the Fed furiously back-pedals and creates the *next* asset bubble. We also see very clearly the ten years of ZIRP, for the first (but, very likely, not the last) time. The one exception is the huge spike in the early 1980s, where the Fed *created* a recession (under the leadership of Paul Volcker) to combat inflation.\n",
    "\n",
    "Our next time series is the unemployment rate."
   ]
  },
  {
   "cell_type": "markdown",
   "metadata": {
    "colab_type": "text",
    "id": "4vnElPjZmcTP"
   },
   "source": [
    "### Unemployment rate"
   ]
  },
  {
   "cell_type": "code",
   "execution_count": 9,
   "metadata": {
    "colab": {},
    "colab_type": "code",
    "id": "D4rkjpbwmcTQ"
   },
   "outputs": [],
   "source": [
    "ur = read_series('UNRATE', 'unemployment_rate')"
   ]
  },
  {
   "cell_type": "code",
   "execution_count": 10,
   "metadata": {
    "colab": {
     "base_uri": "https://localhost:8080/",
     "height": 282
    },
    "colab_type": "code",
    "id": "MNvANmk3mcTR",
    "outputId": "85fbc43e-fbc4-4145-d722-4530a8cf56db"
   },
   "outputs": [
    {
     "data": {
      "text/plain": [
       "<matplotlib.axes._subplots.AxesSubplot at 0x7f853a5f6790>"
      ]
     },
     "execution_count": 10,
     "metadata": {},
     "output_type": "execute_result"
    },
    {
     "data": {
      "image/png": "[encoded data removed]",
      "text/plain": [
       "<Figure size 432x288 with 1 Axes>"
      ]
     },
     "metadata": {
      "needs_background": "light"
     },
     "output_type": "display_data"
    }
   ],
   "source": [
    "ur.plot()"
   ]
  },
  {
   "cell_type": "markdown",
   "metadata": {
    "colab_type": "text",
    "id": "LpIsbvUYmcTT"
   },
   "source": [
    "The unemployment rate (to this author) is surprisingly volatile, and does seem to have a very cyclic pattern (again, indicating the ineffectiveness of the state control of this very important metric). "
   ]
  },
  {
   "cell_type": "markdown",
   "metadata": {
    "colab_type": "text",
    "id": "B0uSVBK8mcTT"
   },
   "source": [
    "Let's use the Fourier Transform to see how cyclic the series really is."
   ]
  },
  {
   "cell_type": "code",
   "execution_count": 11,
   "metadata": {
    "colab": {},
    "colab_type": "code",
    "id": "QH5jX8BGmcTU"
   },
   "outputs": [],
   "source": [
    "from scipy.fftpack import fft"
   ]
  },
  {
   "cell_type": "markdown",
   "metadata": {
    "colab_type": "text",
    "id": "Bo5JIqBamcTW"
   },
   "source": [
    "First, let's count the samples:"
   ]
  },
  {
   "cell_type": "code",
   "execution_count": 12,
   "metadata": {
    "colab": {},
    "colab_type": "code",
    "id": "B89g_XT3mcTW"
   },
   "outputs": [],
   "source": [
    "N = len(ur)"
   ]
  },
  {
   "cell_type": "markdown",
   "metadata": {
    "colab_type": "text",
    "id": "tRbQK4gAmcTY"
   },
   "source": [
    "Sample spacing is 1/365.25"
   ]
  },
  {
   "cell_type": "code",
   "execution_count": 13,
   "metadata": {
    "colab": {},
    "colab_type": "code",
    "id": "4cNKcfhnmcTY"
   },
   "outputs": [],
   "source": [
    "T = 1/365.25"
   ]
  },
  {
   "cell_type": "markdown",
   "metadata": {
    "colab_type": "text",
    "id": "7XLxT7tOmcTa"
   },
   "source": [
    "The scale:"
   ]
  },
  {
   "cell_type": "code",
   "execution_count": 14,
   "metadata": {
    "colab": {},
    "colab_type": "code",
    "id": "XJX9ccj9mcTa"
   },
   "outputs": [],
   "source": [
    "x = np.linspace(0.0, N*T, N)"
   ]
  },
  {
   "cell_type": "code",
   "execution_count": 15,
   "metadata": {
    "colab": {},
    "colab_type": "code",
    "id": "-TagjpZNmcTc"
   },
   "outputs": [],
   "source": [
    "y = ur.values"
   ]
  },
  {
   "cell_type": "code",
   "execution_count": 16,
   "metadata": {
    "colab": {},
    "colab_type": "code",
    "id": "JR0jVnJtmcTe"
   },
   "outputs": [],
   "source": [
    "yf = fft(y)"
   ]
  },
  {
   "cell_type": "code",
   "execution_count": 17,
   "metadata": {
    "colab": {
     "base_uri": "https://localhost:8080/",
     "height": 34
    },
    "colab_type": "code",
    "id": "cqCogBtUmcTf",
    "outputId": "d10f9541-be31-487f-83c6-d1b411bf6aea"
   },
   "outputs": [
    {
     "data": {
      "text/plain": [
       "23947"
      ]
     },
     "execution_count": 17,
     "metadata": {},
     "output_type": "execute_result"
    }
   ],
   "source": [
    "len(yf)"
   ]
  },
  {
   "cell_type": "code",
   "execution_count": 18,
   "metadata": {
    "colab": {},
    "colab_type": "code",
    "id": "9W2qNUYCmcTu"
   },
   "outputs": [],
   "source": [
    "xf = np.linspace(0.0, 1.0/(2.0*T), N//2)"
   ]
  },
  {
   "cell_type": "code",
   "execution_count": 19,
   "metadata": {
    "colab": {
     "base_uri": "https://localhost:8080/",
     "height": 265
    },
    "colab_type": "code",
    "id": "dvUSGWCImcTw",
    "outputId": "ab57e490-f315-4bb0-c533-a1221632279a"
   },
   "outputs": [
    {
     "data": {
      "image/png": "[encoded data removed]",
      "text/plain": [
       "<Figure size 432x288 with 1 Axes>"
      ]
     },
     "metadata": {
      "needs_background": "light"
     },
     "output_type": "display_data"
    }
   ],
   "source": [
    "plt.plot(xf, 2.0/N * np.abs(yf[0:N//2]))\n",
    "plt.grid()\n",
    "plt.show()"
   ]
  },
  {
   "cell_type": "markdown",
   "metadata": {
    "colab_type": "text",
    "id": "Ca9ZNt9FmcTx"
   },
   "source": [
    "We do see a couple of characteristic frequencies, but both fairly long (120 and 160 *years*). At a shorter range, the energy is concentrated in a 24 and around a 40 year cycle."
   ]
  },
  {
   "cell_type": "markdown",
   "metadata": {
    "colab_type": "text",
    "id": "EHrMm6I_mcTy"
   },
   "source": [
    "Our next series has to do with the GDP. We don't want the actual GDP, but its year-on-year change, and we want it in \"real\" (whatever that means) dollars. So, that's what we ask for."
   ]
  },
  {
   "cell_type": "markdown",
   "metadata": {
    "colab_type": "text",
    "id": "YGlNDYIQmcTy"
   },
   "source": [
    "### GDP"
   ]
  },
  {
   "cell_type": "code",
   "execution_count": 20,
   "metadata": {
    "colab": {},
    "colab_type": "code",
    "id": "kdtstIxTmcTz"
   },
   "outputs": [],
   "source": [
    "gdp = read_series('GDPC1&units=pc1', 'real_gdp_growth')"
   ]
  },
  {
   "cell_type": "code",
   "execution_count": 21,
   "metadata": {
    "colab": {
     "base_uri": "https://localhost:8080/",
     "height": 282
    },
    "colab_type": "code",
    "id": "FvusprfDmcT0",
    "outputId": "f648d405-ae98-4586-8d87-b8bda7710e19"
   },
   "outputs": [
    {
     "data": {
      "text/plain": [
       "<matplotlib.axes._subplots.AxesSubplot at 0x7f853a8bff90>"
      ]
     },
     "execution_count": 21,
     "metadata": {},
     "output_type": "execute_result"
    },
    {
     "data": {
      "image/png": "[encoded data removed]",
      "text/plain": [
       "<Figure size 432x288 with 1 Axes>"
      ]
     },
     "metadata": {
      "needs_background": "light"
     },
     "output_type": "display_data"
    }
   ],
   "source": [
    "gdp.plot()"
   ]
  },
  {
   "cell_type": "markdown",
   "metadata": {
    "colab_type": "text",
    "id": "TVj-ctYZmcT2"
   },
   "source": [
    "The graph is quite noisy again, but it does seem to be trending down. We can check."
   ]
  },
  {
   "cell_type": "code",
   "execution_count": 22,
   "metadata": {
    "colab": {},
    "colab_type": "code",
    "id": "OdAaQjzhmcT2"
   },
   "outputs": [],
   "source": [
    "gdpreg = sklearn.linear_model.LinearRegression()"
   ]
  },
  {
   "cell_type": "code",
   "execution_count": 24,
   "metadata": {
    "colab": {
     "base_uri": "https://localhost:8080/",
     "height": 34
    },
    "colab_type": "code",
    "id": "LhB_alqtmcT4",
    "outputId": "3471f374-1aae-4b80-8a50-a399911cf918"
   },
   "outputs": [
    {
     "data": {
      "text/plain": [
       "LinearRegression(copy_X=True, fit_intercept=True, n_jobs=None, normalize=False)"
      ]
     },
     "execution_count": 24,
     "metadata": {},
     "output_type": "execute_result"
    }
   ],
   "source": [
    "gdpreg.fit(np.array(range(len(gdp))).reshape(-1, 1), gdp.values)"
   ]
  },
  {
   "cell_type": "code",
   "execution_count": 25,
   "metadata": {
    "colab": {
     "base_uri": "https://localhost:8080/",
     "height": 34
    },
    "colab_type": "code",
    "id": "hGert0dVmcT5",
    "outputId": "63e8be3a-2cb8-4166-94fe-02849a420dc0"
   },
   "outputs": [
    {
     "data": {
      "text/plain": [
       "array([[-8.59141991e-05]])"
      ]
     },
     "execution_count": 25,
     "metadata": {},
     "output_type": "execute_result"
    }
   ],
   "source": [
    "gdpreg.coef_"
   ]
  },
  {
   "cell_type": "markdown",
   "metadata": {
    "colab_type": "text",
    "id": "BCtQ9jcPmcT6"
   },
   "source": [
    "So, we do, indeed, see a decline of 0.00009% a day, or about 1% every thirty years. This is quite nontrivial, though there is hope that the recent reboot of the economy (including the tax code) might reverse this trend."
   ]
  },
  {
   "cell_type": "markdown",
   "metadata": {
    "colab_type": "text",
    "id": "URDJkLq4mcT7"
   },
   "source": [
    "### Corporate profit after tax"
   ]
  },
  {
   "cell_type": "code",
   "execution_count": 26,
   "metadata": {
    "colab": {},
    "colab_type": "code",
    "id": "73o1wD2NmcT7"
   },
   "outputs": [],
   "source": [
    "cp = read_series('CP&units=pc1', 'corporate_profit_after_tax')"
   ]
  },
  {
   "cell_type": "code",
   "execution_count": 27,
   "metadata": {
    "colab": {
     "base_uri": "https://localhost:8080/",
     "height": 282
    },
    "colab_type": "code",
    "id": "x7p7z66bmcT9",
    "outputId": "501f1a8f-d863-44f9-a544-e83f8b01374f"
   },
   "outputs": [
    {
     "data": {
      "text/plain": [
       "<matplotlib.axes._subplots.AxesSubplot at 0x7f8528926f10>"
      ]
     },
     "execution_count": 27,
     "metadata": {},
     "output_type": "execute_result"
    },
    {
     "data": {
      "image/png": "[encoded data removed]",
      "text/plain": [
       "<Figure size 432x288 with 1 Axes>"
      ]
     },
     "metadata": {
      "needs_background": "light"
     },
     "output_type": "display_data"
    }
   ],
   "source": [
    "cp.plot()"
   ]
  },
  {
   "cell_type": "markdown",
   "metadata": {
    "colab_type": "text",
    "id": "fruF9lW6mcT_"
   },
   "source": [
    "**Remark** The above time series is *not* inflation-adjusted."
   ]
  },
  {
   "cell_type": "markdown",
   "metadata": {
    "colab_type": "text",
    "id": "Trty4j2KmcT_"
   },
   "source": [
    "### Personal Savings Rate"
   ]
  },
  {
   "cell_type": "code",
   "execution_count": 28,
   "metadata": {
    "colab": {},
    "colab_type": "code",
    "id": "LhEiavvTmcUA"
   },
   "outputs": [],
   "source": [
    "ps = read_series('PSAVERT', 'personal_savings_rate')\n"
   ]
  },
  {
   "cell_type": "code",
   "execution_count": 29,
   "metadata": {
    "colab": {
     "base_uri": "https://localhost:8080/",
     "height": 286
    },
    "colab_type": "code",
    "id": "HgzzyFtvmcUC",
    "outputId": "69fcba90-63dd-41da-8b1a-0a16a3e4a9da"
   },
   "outputs": [
    {
     "data": {
      "text/plain": [
       "<matplotlib.axes._subplots.AxesSubplot at 0x7f85289a0990>"
      ]
     },
     "execution_count": 29,
     "metadata": {},
     "output_type": "execute_result"
    },
    {
     "data": {
      "image/png": "[encoded data removed]",
      "text/plain": [
       "<Figure size 432x288 with 1 Axes>"
      ]
     },
     "metadata": {
      "needs_background": "light"
     },
     "output_type": "display_data"
    }
   ],
   "source": [
    "ps.plot()\n"
   ]
  },
  {
   "cell_type": "markdown",
   "metadata": {
    "colab_type": "text",
    "id": "svAvHRvdmcUD"
   },
   "source": [
    "The personal savings rate is (not surprisingly) not very noisy, but \n",
    "\n",
    "a. Shows a persistent downward trend.\n",
    "\n",
    "b. Spikes during recessions.\n",
    "\n",
    "The two items are presumably related, since the savings rate must have spiked very high during the Great Depression, and it took it a long time to come down. There is also the question of whether the savings rate includes housing payments, since starting in around 1980, the mortgage tax deduction was introduced, and that had the obvious effect of causing people (arguably, rather stupidly) to invest in housing."
   ]
  },
  {
   "cell_type": "markdown",
   "metadata": {
    "colab_type": "text",
    "id": "llQeIZVomcUE"
   },
   "source": [
    "### Treasuries"
   ]
  },
  {
   "cell_type": "code",
   "execution_count": 30,
   "metadata": {
    "colab": {},
    "colab_type": "code",
    "id": "68OG7TEJmcUE"
   },
   "outputs": [],
   "source": [
    "treas = read_series('DGS10', 'treasury_rate')"
   ]
  },
  {
   "cell_type": "code",
   "execution_count": 31,
   "metadata": {
    "colab": {
     "base_uri": "https://localhost:8080/",
     "height": 282
    },
    "colab_type": "code",
    "id": "ag9tRa6bmcUF",
    "outputId": "14501849-5932-404b-dc3e-46bf0bed3b01"
   },
   "outputs": [
    {
     "data": {
      "text/plain": [
       "<matplotlib.axes._subplots.AxesSubplot at 0x7f853a8c93d0>"
      ]
     },
     "execution_count": 31,
     "metadata": {},
     "output_type": "execute_result"
    },
    {
     "data": {
      "image/png": "[encoded data removed]",
      "text/plain": [
       "<Figure size 432x288 with 1 Axes>"
      ]
     },
     "metadata": {
      "needs_background": "light"
     },
     "output_type": "display_data"
    }
   ],
   "source": [
    "treas.plot()"
   ]
  },
  {
   "cell_type": "markdown",
   "metadata": {
    "colab_type": "text",
    "id": "thkfa1NAmcUG"
   },
   "source": [
    "The long bond, for obvious reasons, tracks Fed Funds, though it is amusing to see the yield curve inversion during the Volcker recession (where the Fed Funds was **higher** than the long bond."
   ]
  },
  {
   "cell_type": "markdown",
   "metadata": {
    "colab_type": "text",
    "id": "N8nv3Re6mcUH"
   },
   "source": [
    "### Personal consumption"
   ]
  },
  {
   "cell_type": "code",
   "execution_count": 32,
   "metadata": {
    "colab": {},
    "colab_type": "code",
    "id": "4NUaC-D-mcUH"
   },
   "outputs": [],
   "source": [
    "rpcec = read_series('DPCERL1Q225SBEA', 'Real_personal_consumption')"
   ]
  },
  {
   "cell_type": "markdown",
   "metadata": {
    "colab_type": "text",
    "id": "blP2N_-smcUI"
   },
   "source": [
    "This series shows the *change* in personal consumption rates year over year (in constant dollars), and, as such, should be closely correlated to the real GDP growth. Whether or not it is, we shall see below."
   ]
  },
  {
   "cell_type": "code",
   "execution_count": 33,
   "metadata": {
    "colab": {
     "base_uri": "https://localhost:8080/",
     "height": 284
    },
    "colab_type": "code",
    "id": "npiRF5v1mcUJ",
    "outputId": "6977fcbc-ccd2-4809-ec84-a68fadb6a4c8"
   },
   "outputs": [
    {
     "data": {
      "text/plain": [
       "<matplotlib.axes._subplots.AxesSubplot at 0x7f853ae22390>"
      ]
     },
     "execution_count": 33,
     "metadata": {},
     "output_type": "execute_result"
    },
    {
     "data": {
      "image/png": "[encoded data removed]",
      "text/plain": [
       "<Figure size 432x288 with 1 Axes>"
      ]
     },
     "metadata": {
      "needs_background": "light"
     },
     "output_type": "display_data"
    }
   ],
   "source": [
    "rpcec.plot()"
   ]
  },
  {
   "cell_type": "markdown",
   "metadata": {
    "colab_type": "text",
    "id": "Fn4P8KHOmcUK"
   },
   "source": [
    "### Inflation"
   ]
  },
  {
   "cell_type": "code",
   "execution_count": 34,
   "metadata": {
    "colab": {},
    "colab_type": "code",
    "id": "plBamuokmcUL"
   },
   "outputs": [],
   "source": [
    "inflation = read_series('FPCPITOTLZGUSA', 'inflation_CPI')"
   ]
  },
  {
   "cell_type": "code",
   "execution_count": 35,
   "metadata": {
    "colab": {
     "base_uri": "https://localhost:8080/",
     "height": 283
    },
    "colab_type": "code",
    "id": "pSYNqRqsmcUM",
    "outputId": "5185955a-2477-4b79-a0df-54c311541ee5"
   },
   "outputs": [
    {
     "data": {
      "text/plain": [
       "<matplotlib.axes._subplots.AxesSubplot at 0x7f84f8c7e6d0>"
      ]
     },
     "execution_count": 35,
     "metadata": {},
     "output_type": "execute_result"
    },
    {
     "data": {
      "image/png": "[encoded data removed]",
      "text/plain": [
       "<Figure size 432x288 with 1 Axes>"
      ]
     },
     "metadata": {
      "needs_background": "light"
     },
     "output_type": "display_data"
    }
   ],
   "source": [
    "inflation.plot()"
   ]
  },
  {
   "cell_type": "markdown",
   "metadata": {
    "colab_type": "text",
    "id": "Jr-smfxxmcUO"
   },
   "source": [
    "We see that the Fed has been successful in keeping the inflation in roughly 3% range, with the notable 20 year exception of late 1960s to mid 1980s. This means that the currency is debased by a factor of _at least_ 20 per century."
   ]
  },
  {
   "cell_type": "markdown",
   "metadata": {
    "colab_type": "text",
    "id": "uVRpAaGnmcUO"
   },
   "source": [
    "### Nonfarm payrolls"
   ]
  },
  {
   "cell_type": "markdown",
   "metadata": {
    "colab_type": "text",
    "id": "hilDn1dGmcUP"
   },
   "source": [
    "Our next series is the year-on-year change in nonfarm payrolls. This series, again, is far more volatile than one might have suspected, and seems to be trending down (regression bears this out - the growth is decaying by around 0.02% a year). What is more interesting, however,if we look at the cumulative graph, is that the numbers plateaued from around 1998 to around 2014. During that same period the population of the country grew by [over 15%](http://www.multpl.com/united-states-population/table) , which suggests a catastrophic growth in unemployment (usually disguised as the a decrease in \"labor participation rate\".)"
   ]
  },
  {
   "cell_type": "code",
   "execution_count": 36,
   "metadata": {
    "colab": {},
    "colab_type": "code",
    "id": "731VDfvSmcUP"
   },
   "outputs": [],
   "source": [
    "payems = read_series('PAYEMS&units=pc1', 'total_nonfarm_payroll')"
   ]
  },
  {
   "cell_type": "code",
   "execution_count": 37,
   "metadata": {
    "colab": {
     "base_uri": "https://localhost:8080/",
     "height": 283
    },
    "colab_type": "code",
    "id": "BrtQ15ZsmcUU",
    "outputId": "f1734aa9-9613-4662-e57a-d5afc42f4d98"
   },
   "outputs": [
    {
     "data": {
      "text/plain": [
       "<matplotlib.axes._subplots.AxesSubplot at 0x7f853b0cfc10>"
      ]
     },
     "execution_count": 37,
     "metadata": {},
     "output_type": "execute_result"
    },
    {
     "data": {
      "image/png": "[encoded data removed]",
      "text/plain": [
       "<Figure size 432x288 with 1 Axes>"
      ]
     },
     "metadata": {
      "needs_background": "light"
     },
     "output_type": "display_data"
    }
   ],
   "source": [
    "payems.plot()"
   ]
  },
  {
   "cell_type": "code",
   "execution_count": 38,
   "metadata": {
    "colab": {
     "base_uri": "https://localhost:8080/",
     "height": 34
    },
    "colab_type": "code",
    "id": "KZPMOIT5mcUW",
    "outputId": "5daa0d25-c82d-4b1a-f202-67f054fc02a8"
   },
   "outputs": [
    {
     "data": {
      "text/plain": [
       "array([[-0.02277572]])"
      ]
     },
     "execution_count": 38,
     "metadata": {},
     "output_type": "execute_result"
    }
   ],
   "source": [
    "paymod = sklearn.linear_model.LinearRegression()\n",
    "paymod.fit(np.array(range(len(payems))).reshape(-1, 1), payems.values)\n",
    "paymod.coef_ * 365"
   ]
  },
  {
   "cell_type": "code",
   "execution_count": 39,
   "metadata": {
    "colab": {
     "base_uri": "https://localhost:8080/",
     "height": 282
    },
    "colab_type": "code",
    "id": "J78yhPzwmcUX",
    "outputId": "e8f15931-629c-457a-88eb-10e9e256238b"
   },
   "outputs": [
    {
     "data": {
      "text/plain": [
       "<matplotlib.axes._subplots.AxesSubplot at 0x7f853b16b090>"
      ]
     },
     "execution_count": 39,
     "metadata": {},
     "output_type": "execute_result"
    },
    {
     "data": {
      "image/png": "[encoded data removed]",
      "text/plain": [
       "<Figure size 432x288 with 1 Axes>"
      ]
     },
     "metadata": {
      "needs_background": "light"
     },
     "output_type": "display_data"
    }
   ],
   "source": [
    "(payems/36525).cumsum().plot()"
   ]
  },
  {
   "cell_type": "markdown",
   "metadata": {
    "colab_type": "text",
    "id": "WIUPwdyjmcUY"
   },
   "source": [
    "## Macro Summary"
   ]
  },
  {
   "cell_type": "markdown",
   "metadata": {
    "colab_type": "text",
    "id": "146DeS1YmcUZ"
   },
   "source": [
    "Now, let us combine our Fed macro data into one dataframe:"
   ]
  },
  {
   "cell_type": "code",
   "execution_count": 40,
   "metadata": {
    "colab": {},
    "colab_type": "code",
    "id": "ea0DRrHUmcUZ"
   },
   "outputs": [],
   "source": [
    "feddata = pd.concat([ff, ur, payems, inflation, rpcec, cp, treas, ps, gdp], axis=1)"
   ]
  },
  {
   "cell_type": "markdown",
   "metadata": {
    "colab_type": "text",
    "id": "tbXlpY2RmcUb"
   },
   "source": [
    "We want corporate profits to be inflation adjusted..."
   ]
  },
  {
   "cell_type": "code",
   "execution_count": 41,
   "metadata": {
    "colab": {},
    "colab_type": "code",
    "id": "KHYj005mmcUb"
   },
   "outputs": [],
   "source": [
    "feddata['real_profits'] = ((1+feddata.corporate_profit_after_tax/100)/(1+feddata.inflation_CPI/100)-1)*100"
   ]
  },
  {
   "cell_type": "code",
   "execution_count": 42,
   "metadata": {
    "colab": {
     "base_uri": "https://localhost:8080/",
     "height": 282
    },
    "colab_type": "code",
    "id": "Kd89slqcmcUn",
    "outputId": "2d8b03a8-01a5-4da6-bf6e-49a994001a0f"
   },
   "outputs": [
    {
     "data": {
      "text/plain": [
       "<matplotlib.axes._subplots.AxesSubplot at 0x7f84f923b8d0>"
      ]
     },
     "execution_count": 42,
     "metadata": {},
     "output_type": "execute_result"
    },
    {
     "data": {
      "image/png": "[encoded data removed]",
      "text/plain": [
       "<Figure size 432x288 with 1 Axes>"
      ]
     },
     "metadata": {
      "needs_background": "light"
     },
     "output_type": "display_data"
    }
   ],
   "source": [
    "feddata.real_profits.plot()"
   ]
  },
  {
   "cell_type": "markdown",
   "metadata": {
    "colab_type": "text",
    "id": "kW4KxqK8mcUo"
   },
   "source": [
    "And now we can drop the unadjusted profits."
   ]
  },
  {
   "cell_type": "code",
   "execution_count": 43,
   "metadata": {
    "colab": {},
    "colab_type": "code",
    "id": "GO2UJpgPmcUp"
   },
   "outputs": [],
   "source": [
    "feddata.drop('corporate_profit_after_tax', axis=1, inplace = True)"
   ]
  },
  {
   "cell_type": "code",
   "execution_count": 44,
   "metadata": {
    "colab": {
     "base_uri": "https://localhost:8080/",
     "height": 317
    },
    "colab_type": "code",
    "id": "_uov0CfkmcUq",
    "outputId": "9b256c3c-c27d-493c-8206-cb333661435f"
   },
   "outputs": [
    {
     "data": {
      "text/html": [
       "<div>\n",
       "<style scoped>\n",
       "    .dataframe tbody tr th:only-of-type {\n",
       "        vertical-align: middle;\n",
       "    }\n",
       "\n",
       "    .dataframe tbody tr th {\n",
       "        vertical-align: top;\n",
       "    }\n",
       "\n",
       "    .dataframe thead th {\n",
       "        text-align: right;\n",
       "    }\n",
       "</style>\n",
       "<table border=\"1\" class=\"dataframe\">\n",
       "  <thead>\n",
       "    <tr style=\"text-align: right;\">\n",
       "      <th></th>\n",
       "      <th>FEDFUNDS</th>\n",
       "      <th>unemployment_rate</th>\n",
       "      <th>total_nonfarm_payroll</th>\n",
       "      <th>inflation_CPI</th>\n",
       "      <th>Real_personal_consumption</th>\n",
       "      <th>treasury_rate</th>\n",
       "      <th>personal_savings_rate</th>\n",
       "      <th>real_gdp_growth</th>\n",
       "      <th>real_profits</th>\n",
       "    </tr>\n",
       "  </thead>\n",
       "  <tbody>\n",
       "    <tr>\n",
       "      <th>count</th>\n",
       "      <td>23947.000000</td>\n",
       "      <td>23947.000000</td>\n",
       "      <td>23947.000000</td>\n",
       "      <td>21937.000000</td>\n",
       "      <td>23947.000000</td>\n",
       "      <td>20337.000000</td>\n",
       "      <td>22302.000000</td>\n",
       "      <td>23947.00000</td>\n",
       "      <td>21937.000000</td>\n",
       "    </tr>\n",
       "    <tr>\n",
       "      <th>mean</th>\n",
       "      <td>4.770436</td>\n",
       "      <td>5.888086</td>\n",
       "      <td>1.735082</td>\n",
       "      <td>3.730112</td>\n",
       "      <td>3.334668</td>\n",
       "      <td>6.110384</td>\n",
       "      <td>8.822505</td>\n",
       "      <td>3.07407</td>\n",
       "      <td>4.098115</td>\n",
       "    </tr>\n",
       "    <tr>\n",
       "      <th>std</th>\n",
       "      <td>3.591074</td>\n",
       "      <td>1.589871</td>\n",
       "      <td>1.983272</td>\n",
       "      <td>2.747976</td>\n",
       "      <td>2.759746</td>\n",
       "      <td>2.897943</td>\n",
       "      <td>2.808811</td>\n",
       "      <td>2.33567</td>\n",
       "      <td>14.773812</td>\n",
       "    </tr>\n",
       "    <tr>\n",
       "      <th>min</th>\n",
       "      <td>0.070000</td>\n",
       "      <td>3.400000</td>\n",
       "      <td>-4.961890</td>\n",
       "      <td>-0.355546</td>\n",
       "      <td>-8.700000</td>\n",
       "      <td>1.370000</td>\n",
       "      <td>2.200000</td>\n",
       "      <td>-3.92445</td>\n",
       "      <td>-49.217963</td>\n",
       "    </tr>\n",
       "    <tr>\n",
       "      <th>25%</th>\n",
       "      <td>2.020000</td>\n",
       "      <td>4.700000</td>\n",
       "      <td>0.821380</td>\n",
       "      <td>2.069337</td>\n",
       "      <td>1.700000</td>\n",
       "      <td>4.040000</td>\n",
       "      <td>6.700000</td>\n",
       "      <td>1.90085</td>\n",
       "      <td>-5.792142</td>\n",
       "    </tr>\n",
       "    <tr>\n",
       "      <th>50%</th>\n",
       "      <td>4.470000</td>\n",
       "      <td>5.600000</td>\n",
       "      <td>1.898520</td>\n",
       "      <td>2.951657</td>\n",
       "      <td>3.200000</td>\n",
       "      <td>5.870000</td>\n",
       "      <td>8.700000</td>\n",
       "      <td>3.04952</td>\n",
       "      <td>4.095960</td>\n",
       "    </tr>\n",
       "    <tr>\n",
       "      <th>75%</th>\n",
       "      <td>6.510000</td>\n",
       "      <td>7.000000</td>\n",
       "      <td>2.994730</td>\n",
       "      <td>4.292767</td>\n",
       "      <td>4.900000</td>\n",
       "      <td>7.780000</td>\n",
       "      <td>11.200000</td>\n",
       "      <td>4.42122</td>\n",
       "      <td>11.302041</td>\n",
       "    </tr>\n",
       "    <tr>\n",
       "      <th>max</th>\n",
       "      <td>19.100000</td>\n",
       "      <td>10.800000</td>\n",
       "      <td>5.636840</td>\n",
       "      <td>13.549202</td>\n",
       "      <td>11.700000</td>\n",
       "      <td>15.840000</td>\n",
       "      <td>17.300000</td>\n",
       "      <td>9.12706</td>\n",
       "      <td>103.521664</td>\n",
       "    </tr>\n",
       "  </tbody>\n",
       "</table>\n",
       "</div>"
      ],
      "text/plain": [
       "           FEDFUNDS  unemployment_rate  total_nonfarm_payroll  inflation_CPI  \\\n",
       "count  23947.000000       23947.000000           23947.000000   21937.000000   \n",
       "mean       4.770436           5.888086               1.735082       3.730112   \n",
       "std        3.591074           1.589871               1.983272       2.747976   \n",
       "min        0.070000           3.400000              -4.961890      -0.355546   \n",
       "25%        2.020000           4.700000               0.821380       2.069337   \n",
       "50%        4.470000           5.600000               1.898520       2.951657   \n",
       "75%        6.510000           7.000000               2.994730       4.292767   \n",
       "max       19.100000          10.800000               5.636840      13.549202   \n",
       "\n",
       "       Real_personal_consumption  treasury_rate  personal_savings_rate  \\\n",
       "count               23947.000000   20337.000000           22302.000000   \n",
       "mean                    3.334668       6.110384               8.822505   \n",
       "std                     2.759746       2.897943               2.808811   \n",
       "min                    -8.700000       1.370000               2.200000   \n",
       "25%                     1.700000       4.040000               6.700000   \n",
       "50%                     3.200000       5.870000               8.700000   \n",
       "75%                     4.900000       7.780000              11.200000   \n",
       "max                    11.700000      15.840000              17.300000   \n",
       "\n",
       "       real_gdp_growth  real_profits  \n",
       "count      23947.00000  21937.000000  \n",
       "mean           3.07407      4.098115  \n",
       "std            2.33567     14.773812  \n",
       "min           -3.92445    -49.217963  \n",
       "25%            1.90085     -5.792142  \n",
       "50%            3.04952      4.095960  \n",
       "75%            4.42122     11.302041  \n",
       "max            9.12706    103.521664  "
      ]
     },
     "execution_count": 44,
     "metadata": {},
     "output_type": "execute_result"
    }
   ],
   "source": [
    "feddata.describe()"
   ]
  },
  {
   "cell_type": "markdown",
   "metadata": {
    "colab_type": "text",
    "id": "1rKDAuKbmcUr"
   },
   "source": [
    "And, both as a sanity check and for enlightenment, let's compute the correlations:"
   ]
  },
  {
   "cell_type": "code",
   "execution_count": 45,
   "metadata": {
    "colab": {
     "base_uri": "https://localhost:8080/",
     "height": 348
    },
    "colab_type": "code",
    "id": "_CWBJy-5mcUr",
    "outputId": "9cf54bd1-d54c-41a5-80ac-a5dae072fee3"
   },
   "outputs": [
    {
     "data": {
      "text/html": [
       "<div>\n",
       "<style scoped>\n",
       "    .dataframe tbody tr th:only-of-type {\n",
       "        vertical-align: middle;\n",
       "    }\n",
       "\n",
       "    .dataframe tbody tr th {\n",
       "        vertical-align: top;\n",
       "    }\n",
       "\n",
       "    .dataframe thead th {\n",
       "        text-align: right;\n",
       "    }\n",
       "</style>\n",
       "<table border=\"1\" class=\"dataframe\">\n",
       "  <thead>\n",
       "    <tr style=\"text-align: right;\">\n",
       "      <th></th>\n",
       "      <th>FEDFUNDS</th>\n",
       "      <th>unemployment_rate</th>\n",
       "      <th>total_nonfarm_payroll</th>\n",
       "      <th>inflation_CPI</th>\n",
       "      <th>Real_personal_consumption</th>\n",
       "      <th>treasury_rate</th>\n",
       "      <th>personal_savings_rate</th>\n",
       "      <th>real_gdp_growth</th>\n",
       "      <th>real_profits</th>\n",
       "    </tr>\n",
       "  </thead>\n",
       "  <tbody>\n",
       "    <tr>\n",
       "      <th>FEDFUNDS</th>\n",
       "      <td>1.000000</td>\n",
       "      <td>0.082275</td>\n",
       "      <td>0.234977</td>\n",
       "      <td>0.760277</td>\n",
       "      <td>-0.078149</td>\n",
       "      <td>0.901605</td>\n",
       "      <td>0.429210</td>\n",
       "      <td>0.043873</td>\n",
       "      <td>-0.223883</td>\n",
       "    </tr>\n",
       "    <tr>\n",
       "      <th>unemployment_rate</th>\n",
       "      <td>0.082275</td>\n",
       "      <td>1.000000</td>\n",
       "      <td>-0.477869</td>\n",
       "      <td>0.146163</td>\n",
       "      <td>-0.085272</td>\n",
       "      <td>0.321305</td>\n",
       "      <td>0.138628</td>\n",
       "      <td>-0.320419</td>\n",
       "      <td>0.027277</td>\n",
       "    </tr>\n",
       "    <tr>\n",
       "      <th>total_nonfarm_payroll</th>\n",
       "      <td>0.234977</td>\n",
       "      <td>-0.477869</td>\n",
       "      <td>1.000000</td>\n",
       "      <td>0.085079</td>\n",
       "      <td>0.227862</td>\n",
       "      <td>0.101363</td>\n",
       "      <td>0.227363</td>\n",
       "      <td>0.770044</td>\n",
       "      <td>0.159030</td>\n",
       "    </tr>\n",
       "    <tr>\n",
       "      <th>inflation_CPI</th>\n",
       "      <td>0.760277</td>\n",
       "      <td>0.146163</td>\n",
       "      <td>0.085079</td>\n",
       "      <td>1.000000</td>\n",
       "      <td>-0.220299</td>\n",
       "      <td>0.664730</td>\n",
       "      <td>0.454017</td>\n",
       "      <td>-0.181143</td>\n",
       "      <td>-0.203221</td>\n",
       "    </tr>\n",
       "    <tr>\n",
       "      <th>Real_personal_consumption</th>\n",
       "      <td>-0.078149</td>\n",
       "      <td>-0.085272</td>\n",
       "      <td>0.227862</td>\n",
       "      <td>-0.220299</td>\n",
       "      <td>1.000000</td>\n",
       "      <td>0.024828</td>\n",
       "      <td>0.113221</td>\n",
       "      <td>0.514334</td>\n",
       "      <td>0.180429</td>\n",
       "    </tr>\n",
       "    <tr>\n",
       "      <th>treasury_rate</th>\n",
       "      <td>0.901605</td>\n",
       "      <td>0.321305</td>\n",
       "      <td>0.101363</td>\n",
       "      <td>0.664730</td>\n",
       "      <td>0.024828</td>\n",
       "      <td>1.000000</td>\n",
       "      <td>0.438192</td>\n",
       "      <td>0.046689</td>\n",
       "      <td>-0.163748</td>\n",
       "    </tr>\n",
       "    <tr>\n",
       "      <th>personal_savings_rate</th>\n",
       "      <td>0.429210</td>\n",
       "      <td>0.138628</td>\n",
       "      <td>0.227363</td>\n",
       "      <td>0.454017</td>\n",
       "      <td>0.113221</td>\n",
       "      <td>0.438192</td>\n",
       "      <td>1.000000</td>\n",
       "      <td>0.144143</td>\n",
       "      <td>-0.102145</td>\n",
       "    </tr>\n",
       "    <tr>\n",
       "      <th>real_gdp_growth</th>\n",
       "      <td>0.043873</td>\n",
       "      <td>-0.320419</td>\n",
       "      <td>0.770044</td>\n",
       "      <td>-0.181143</td>\n",
       "      <td>0.514334</td>\n",
       "      <td>0.046689</td>\n",
       "      <td>0.144143</td>\n",
       "      <td>1.000000</td>\n",
       "      <td>0.413864</td>\n",
       "    </tr>\n",
       "    <tr>\n",
       "      <th>real_profits</th>\n",
       "      <td>-0.223883</td>\n",
       "      <td>0.027277</td>\n",
       "      <td>0.159030</td>\n",
       "      <td>-0.203221</td>\n",
       "      <td>0.180429</td>\n",
       "      <td>-0.163748</td>\n",
       "      <td>-0.102145</td>\n",
       "      <td>0.413864</td>\n",
       "      <td>1.000000</td>\n",
       "    </tr>\n",
       "  </tbody>\n",
       "</table>\n",
       "</div>"
      ],
      "text/plain": [
       "                           FEDFUNDS  unemployment_rate  total_nonfarm_payroll  \\\n",
       "FEDFUNDS                   1.000000           0.082275               0.234977   \n",
       "unemployment_rate          0.082275           1.000000              -0.477869   \n",
       "total_nonfarm_payroll      0.234977          -0.477869               1.000000   \n",
       "inflation_CPI              0.760277           0.146163               0.085079   \n",
       "Real_personal_consumption -0.078149          -0.085272               0.227862   \n",
       "treasury_rate              0.901605           0.321305               0.101363   \n",
       "personal_savings_rate      0.429210           0.138628               0.227363   \n",
       "real_gdp_growth            0.043873          -0.320419               0.770044   \n",
       "real_profits              -0.223883           0.027277               0.159030   \n",
       "\n",
       "                           inflation_CPI  Real_personal_consumption  \\\n",
       "FEDFUNDS                        0.760277                  -0.078149   \n",
       "unemployment_rate               0.146163                  -0.085272   \n",
       "total_nonfarm_payroll           0.085079                   0.227862   \n",
       "inflation_CPI                   1.000000                  -0.220299   \n",
       "Real_personal_consumption      -0.220299                   1.000000   \n",
       "treasury_rate                   0.664730                   0.024828   \n",
       "personal_savings_rate           0.454017                   0.113221   \n",
       "real_gdp_growth                -0.181143                   0.514334   \n",
       "real_profits                   -0.203221                   0.180429   \n",
       "\n",
       "                           treasury_rate  personal_savings_rate  \\\n",
       "FEDFUNDS                        0.901605               0.429210   \n",
       "unemployment_rate               0.321305               0.138628   \n",
       "total_nonfarm_payroll           0.101363               0.227363   \n",
       "inflation_CPI                   0.664730               0.454017   \n",
       "Real_personal_consumption       0.024828               0.113221   \n",
       "treasury_rate                   1.000000               0.438192   \n",
       "personal_savings_rate           0.438192               1.000000   \n",
       "real_gdp_growth                 0.046689               0.144143   \n",
       "real_profits                   -0.163748              -0.102145   \n",
       "\n",
       "                           real_gdp_growth  real_profits  \n",
       "FEDFUNDS                          0.043873     -0.223883  \n",
       "unemployment_rate                -0.320419      0.027277  \n",
       "total_nonfarm_payroll             0.770044      0.159030  \n",
       "inflation_CPI                    -0.181143     -0.203221  \n",
       "Real_personal_consumption         0.514334      0.180429  \n",
       "treasury_rate                     0.046689     -0.163748  \n",
       "personal_savings_rate             0.144143     -0.102145  \n",
       "real_gdp_growth                   1.000000      0.413864  \n",
       "real_profits                      0.413864      1.000000  "
      ]
     },
     "metadata": {},
     "output_type": "display_data"
    }
   ],
   "source": [
    "display(feddata.corr())"
   ]
  },
  {
   "cell_type": "markdown",
   "metadata": {
    "colab_type": "text",
    "id": "i5zXZsNimcUs"
   },
   "source": [
    "Let's look at the larger (in absolute value) correlations: In the first column, it is not at all surprising that Fed Funds is highly correlated with the treasury rate. It is not surprising that the Fed Funds rate is correlated with inflation (since the Fed typically raises the rate when it judges the inflation as too high). High Fed Funds rate tends to come with economy close to \"overheating\" (whatever that means), and so it is not surprising to find it correlated with the growth of payrolls. What is somewhat puzzling is the **_negative_** correlation of Fed Funds with the growth of profits. On reflection, though, cheap money make borrowing money cheap, and contribute to profits. The last suprsing number is the high correlatio of personal savings rate and Fed Funds, since before we seem to have noticed that personal savings rate is high in recessionary times, when Fed Funds tends to be low. A bit of a reflection brings forth a theory:\n",
    "\n",
    ">Personal savings rate was higher in the beginning of our period, when the Fed had not yet fallen >prey to quantitative easing and ZIRP as it had later. \n",
    "\n",
    "We can test this theory, by looking at the second half of our DataFrame."
   ]
  },
  {
   "cell_type": "code",
   "execution_count": 46,
   "metadata": {
    "colab": {
     "base_uri": "https://localhost:8080/",
     "height": 348
    },
    "colab_type": "code",
    "id": "LT3XfCvcmcUt",
    "outputId": "f4e1245c-7431-48a6-accd-ff07ed2c8b04"
   },
   "outputs": [
    {
     "data": {
      "text/html": [
       "<div>\n",
       "<style scoped>\n",
       "    .dataframe tbody tr th:only-of-type {\n",
       "        vertical-align: middle;\n",
       "    }\n",
       "\n",
       "    .dataframe tbody tr th {\n",
       "        vertical-align: top;\n",
       "    }\n",
       "\n",
       "    .dataframe thead th {\n",
       "        text-align: right;\n",
       "    }\n",
       "</style>\n",
       "<table border=\"1\" class=\"dataframe\">\n",
       "  <thead>\n",
       "    <tr style=\"text-align: right;\">\n",
       "      <th></th>\n",
       "      <th>FEDFUNDS</th>\n",
       "      <th>unemployment_rate</th>\n",
       "      <th>total_nonfarm_payroll</th>\n",
       "      <th>inflation_CPI</th>\n",
       "      <th>Real_personal_consumption</th>\n",
       "      <th>treasury_rate</th>\n",
       "      <th>personal_savings_rate</th>\n",
       "      <th>real_gdp_growth</th>\n",
       "      <th>real_profits</th>\n",
       "    </tr>\n",
       "  </thead>\n",
       "  <tbody>\n",
       "    <tr>\n",
       "      <th>FEDFUNDS</th>\n",
       "      <td>1.000000</td>\n",
       "      <td>-0.413154</td>\n",
       "      <td>0.413333</td>\n",
       "      <td>0.713521</td>\n",
       "      <td>0.173955</td>\n",
       "      <td>0.884803</td>\n",
       "      <td>0.068800</td>\n",
       "      <td>0.371840</td>\n",
       "      <td>-0.062993</td>\n",
       "    </tr>\n",
       "    <tr>\n",
       "      <th>unemployment_rate</th>\n",
       "      <td>-0.413154</td>\n",
       "      <td>1.000000</td>\n",
       "      <td>-0.514446</td>\n",
       "      <td>-0.205128</td>\n",
       "      <td>-0.289650</td>\n",
       "      <td>-0.117925</td>\n",
       "      <td>0.270121</td>\n",
       "      <td>-0.416091</td>\n",
       "      <td>0.277824</td>\n",
       "    </tr>\n",
       "    <tr>\n",
       "      <th>total_nonfarm_payroll</th>\n",
       "      <td>0.413333</td>\n",
       "      <td>-0.514446</td>\n",
       "      <td>1.000000</td>\n",
       "      <td>0.286999</td>\n",
       "      <td>0.427422</td>\n",
       "      <td>0.243096</td>\n",
       "      <td>0.122418</td>\n",
       "      <td>0.771314</td>\n",
       "      <td>-0.117418</td>\n",
       "    </tr>\n",
       "    <tr>\n",
       "      <th>inflation_CPI</th>\n",
       "      <td>0.713521</td>\n",
       "      <td>-0.205128</td>\n",
       "      <td>0.286999</td>\n",
       "      <td>1.000000</td>\n",
       "      <td>-0.071116</td>\n",
       "      <td>0.679642</td>\n",
       "      <td>0.115390</td>\n",
       "      <td>0.190060</td>\n",
       "      <td>-0.086554</td>\n",
       "    </tr>\n",
       "    <tr>\n",
       "      <th>Real_personal_consumption</th>\n",
       "      <td>0.173955</td>\n",
       "      <td>-0.289650</td>\n",
       "      <td>0.427422</td>\n",
       "      <td>-0.071116</td>\n",
       "      <td>1.000000</td>\n",
       "      <td>0.164868</td>\n",
       "      <td>-0.022842</td>\n",
       "      <td>0.623717</td>\n",
       "      <td>0.099012</td>\n",
       "    </tr>\n",
       "    <tr>\n",
       "      <th>treasury_rate</th>\n",
       "      <td>0.884803</td>\n",
       "      <td>-0.117925</td>\n",
       "      <td>0.243096</td>\n",
       "      <td>0.679642</td>\n",
       "      <td>0.164868</td>\n",
       "      <td>1.000000</td>\n",
       "      <td>0.203487</td>\n",
       "      <td>0.313479</td>\n",
       "      <td>0.113682</td>\n",
       "    </tr>\n",
       "    <tr>\n",
       "      <th>personal_savings_rate</th>\n",
       "      <td>0.068800</td>\n",
       "      <td>0.270121</td>\n",
       "      <td>0.122418</td>\n",
       "      <td>0.115390</td>\n",
       "      <td>-0.022842</td>\n",
       "      <td>0.203487</td>\n",
       "      <td>1.000000</td>\n",
       "      <td>0.000581</td>\n",
       "      <td>-0.081126</td>\n",
       "    </tr>\n",
       "    <tr>\n",
       "      <th>real_gdp_growth</th>\n",
       "      <td>0.371840</td>\n",
       "      <td>-0.416091</td>\n",
       "      <td>0.771314</td>\n",
       "      <td>0.190060</td>\n",
       "      <td>0.623717</td>\n",
       "      <td>0.313479</td>\n",
       "      <td>0.000581</td>\n",
       "      <td>1.000000</td>\n",
       "      <td>0.172304</td>\n",
       "    </tr>\n",
       "    <tr>\n",
       "      <th>real_profits</th>\n",
       "      <td>-0.062993</td>\n",
       "      <td>0.277824</td>\n",
       "      <td>-0.117418</td>\n",
       "      <td>-0.086554</td>\n",
       "      <td>0.099012</td>\n",
       "      <td>0.113682</td>\n",
       "      <td>-0.081126</td>\n",
       "      <td>0.172304</td>\n",
       "      <td>1.000000</td>\n",
       "    </tr>\n",
       "  </tbody>\n",
       "</table>\n",
       "</div>"
      ],
      "text/plain": [
       "                           FEDFUNDS  unemployment_rate  total_nonfarm_payroll  \\\n",
       "FEDFUNDS                   1.000000          -0.413154               0.413333   \n",
       "unemployment_rate         -0.413154           1.000000              -0.514446   \n",
       "total_nonfarm_payroll      0.413333          -0.514446               1.000000   \n",
       "inflation_CPI              0.713521          -0.205128               0.286999   \n",
       "Real_personal_consumption  0.173955          -0.289650               0.427422   \n",
       "treasury_rate              0.884803          -0.117925               0.243096   \n",
       "personal_savings_rate      0.068800           0.270121               0.122418   \n",
       "real_gdp_growth            0.371840          -0.416091               0.771314   \n",
       "real_profits              -0.062993           0.277824              -0.117418   \n",
       "\n",
       "                           inflation_CPI  Real_personal_consumption  \\\n",
       "FEDFUNDS                        0.713521                   0.173955   \n",
       "unemployment_rate              -0.205128                  -0.289650   \n",
       "total_nonfarm_payroll           0.286999                   0.427422   \n",
       "inflation_CPI                   1.000000                  -0.071116   \n",
       "Real_personal_consumption      -0.071116                   1.000000   \n",
       "treasury_rate                   0.679642                   0.164868   \n",
       "personal_savings_rate           0.115390                  -0.022842   \n",
       "real_gdp_growth                 0.190060                   0.623717   \n",
       "real_profits                   -0.086554                   0.099012   \n",
       "\n",
       "                           treasury_rate  personal_savings_rate  \\\n",
       "FEDFUNDS                        0.884803               0.068800   \n",
       "unemployment_rate              -0.117925               0.270121   \n",
       "total_nonfarm_payroll           0.243096               0.122418   \n",
       "inflation_CPI                   0.679642               0.115390   \n",
       "Real_personal_consumption       0.164868              -0.022842   \n",
       "treasury_rate                   1.000000               0.203487   \n",
       "personal_savings_rate           0.203487               1.000000   \n",
       "real_gdp_growth                 0.313479               0.000581   \n",
       "real_profits                    0.113682              -0.081126   \n",
       "\n",
       "                           real_gdp_growth  real_profits  \n",
       "FEDFUNDS                          0.371840     -0.062993  \n",
       "unemployment_rate                -0.416091      0.277824  \n",
       "total_nonfarm_payroll             0.771314     -0.117418  \n",
       "inflation_CPI                     0.190060     -0.086554  \n",
       "Real_personal_consumption         0.623717      0.099012  \n",
       "treasury_rate                     0.313479      0.113682  \n",
       "personal_savings_rate             0.000581     -0.081126  \n",
       "real_gdp_growth                   1.000000      0.172304  \n",
       "real_profits                      0.172304      1.000000  "
      ]
     },
     "execution_count": 46,
     "metadata": {},
     "output_type": "execute_result"
    }
   ],
   "source": [
    "feddata.iloc[12000:].corr()"
   ]
  },
  {
   "cell_type": "markdown",
   "metadata": {
    "colab_type": "text",
    "id": "-3sdwUJtmcUu"
   },
   "source": [
    "Sure enough, the correlation recedes to a much lower 0.1."
   ]
  },
  {
   "cell_type": "markdown",
   "metadata": {
    "colab_type": "text",
    "id": "mFvq56tvmcUu"
   },
   "source": [
    "The other large (and small) values are not too surprising. One interesting one is the **unemployment rate**. You will notice that in the full data frame there is very low correlation between the Fed Funds rate and the Unemployment rate, whereas in the second half of the time series there is a very **_strong_** (negative) correlation. A plausible argument is that the Fed's charter has mutated over the years to deal with unemployment as well as with inflation, especially as the inflation has stayed low over the last thirty-odd years."
   ]
  },
  {
   "cell_type": "markdown",
   "metadata": {
    "colab_type": "text",
    "id": "PQw86G1cmcUv"
   },
   "source": [
    "## Macro effects on equity prices"
   ]
  },
  {
   "cell_type": "markdown",
   "metadata": {
    "colab_type": "text",
    "id": "sQht5ePwmcUv"
   },
   "source": [
    "We now download S&P 500 adjusted close prices. Note that these do *not* keep track of dividends, so we will need to use multiple data sets."
   ]
  },
  {
   "cell_type": "code",
   "execution_count": 47,
   "metadata": {
    "colab": {},
    "colab_type": "code",
    "id": "og-j2MqkmcUv"
   },
   "outputs": [],
   "source": [
    "sandp500 = pd.read_csv(theurl,index_col=['Date'], parse_dates=['Date'])"
   ]
  },
  {
   "cell_type": "code",
   "execution_count": 48,
   "metadata": {
    "colab": {},
    "colab_type": "code",
    "id": "3Jbl05SamcUw"
   },
   "outputs": [],
   "source": [
    "sandp2=sandp500.resample('D').asfreq().fillna(method='ffill')"
   ]
  },
  {
   "cell_type": "code",
   "execution_count": 49,
   "metadata": {
    "colab": {},
    "colab_type": "code",
    "id": "hoTrrJJlmcUx"
   },
   "outputs": [],
   "source": [
    "sandpa = sandp2[['Adj Close']]"
   ]
  },
  {
   "cell_type": "code",
   "execution_count": 50,
   "metadata": {
    "colab": {},
    "colab_type": "code",
    "id": "KeEJSAFZmcUy"
   },
   "outputs": [],
   "source": [
    "sandpa.columns = ['ac']"
   ]
  },
  {
   "cell_type": "code",
   "execution_count": 51,
   "metadata": {
    "colab": {},
    "colab_type": "code",
    "id": "mYK96JYGmNjF"
   },
   "outputs": [],
   "source": [
    "shurl = \"https://raw.githubusercontent.com/igorrivin/macro/master/ie_data.csv\""
   ]
  },
  {
   "cell_type": "markdown",
   "metadata": {
    "colab_type": "text",
    "id": "R-PAyx2TmcUz"
   },
   "source": [
    "Robert Shiller's S&P 500 data. Shiller has his data as an Excel file, which gives pandas some difficulties, so we read in a lightly edited version, and adjust a couple of things."
   ]
  },
  {
   "cell_type": "code",
   "execution_count": 52,
   "metadata": {
    "colab": {},
    "colab_type": "code",
    "id": "0eXMzOyGmcU0"
   },
   "outputs": [],
   "source": [
    "shillerd = pd.read_csv(shurl, parse_dates=['Date'])"
   ]
  },
  {
   "cell_type": "code",
   "execution_count": 53,
   "metadata": {
    "colab": {
     "base_uri": "https://localhost:8080/",
     "height": 374
    },
    "colab_type": "code",
    "id": "vSm31FbzmcU2",
    "outputId": "6a4c86cb-8a4a-4a5e-cb73-2a7976533277"
   },
   "outputs": [
    {
     "name": "stdout",
     "output_type": "stream",
     "text": [
      "<class 'pandas.core.frame.DataFrame'>\n",
      "RangeIndex: 2415 entries, 0 to 2414\n",
      "Data columns (total 16 columns):\n",
      "Date           1788 non-null datetime64[ns]\n",
      "P              1789 non-null object\n",
      "D              1785 non-null float64\n",
      "E              1785 non-null float64\n",
      "CPI            1789 non-null object\n",
      "Fraction       1788 non-null float64\n",
      "Rate GS10      1789 non-null object\n",
      "Price          1788 non-null float64\n",
      "Dividend       1785 non-null float64\n",
      "Price.1        1788 non-null float64\n",
      "Earnings       1785 non-null float64\n",
      "Earnings.1     1785 non-null float64\n",
      "CAPE           1668 non-null float64\n",
      "Unnamed: 13    0 non-null float64\n",
      "TR CAPE        1668 non-null float64\n",
      "Unnamed: 15    3 non-null float64\n",
      "dtypes: datetime64[ns](1), float64(12), object(3)\n",
      "memory usage: 302.0+ KB\n"
     ]
    }
   ],
   "source": [
    "shillerd.info()"
   ]
  },
  {
   "cell_type": "code",
   "execution_count": 54,
   "metadata": {
    "colab": {},
    "colab_type": "code",
    "id": "FEpMKBVEmcU3"
   },
   "outputs": [],
   "source": [
    "shillerd.set_index('Date', inplace=True)"
   ]
  },
  {
   "cell_type": "code",
   "execution_count": 55,
   "metadata": {
    "colab": {
     "base_uri": "https://localhost:8080/",
     "height": 85
    },
    "colab_type": "code",
    "id": "ljyk81HBnb8D",
    "outputId": "0eed0029-f262-46f7-e4a0-4a110b8a3139"
   },
   "outputs": [
    {
     "data": {
      "text/plain": [
       "Index(['P', 'D', 'E', 'CPI', 'Fraction', 'Rate GS10', 'Price', 'Dividend',\n",
       "       'Price.1', 'Earnings', 'Earnings.1', 'CAPE', 'Unnamed: 13', 'TR CAPE',\n",
       "       'Unnamed: 15'],\n",
       "      dtype='object')"
      ]
     },
     "execution_count": 55,
     "metadata": {},
     "output_type": "execute_result"
    }
   ],
   "source": [
    "shillerd.columns"
   ]
  },
  {
   "cell_type": "code",
   "execution_count": 56,
   "metadata": {
    "colab": {},
    "colab_type": "code",
    "id": "Wu-PKrVGnFDU"
   },
   "outputs": [],
   "source": [
    "shillerd.drop(\"Unnamed: 13\", axis=1, inplace=True)"
   ]
  },
  {
   "cell_type": "code",
   "execution_count": 57,
   "metadata": {
    "colab": {},
    "colab_type": "code",
    "id": "nJIJcKnynqt5"
   },
   "outputs": [],
   "source": [
    "shillerd.drop(\"Unnamed: 15\", axis=1, inplace=True)"
   ]
  },
  {
   "cell_type": "code",
   "execution_count": 58,
   "metadata": {
    "colab": {},
    "colab_type": "code",
    "id": "kQViJFhTmcU4"
   },
   "outputs": [],
   "source": [
    "shillerd.dropna(inplace = True)\n",
    "shillerd.P = pd.to_numeric(shillerd.P)\n",
    "shillerd.CPI = pd.to_numeric(shillerd.CPI)"
   ]
  },
  {
   "cell_type": "code",
   "execution_count": 59,
   "metadata": {
    "colab": {
     "base_uri": "https://localhost:8080/",
     "height": 323
    },
    "colab_type": "code",
    "id": "oPQq4uzcmnZU",
    "outputId": "ca617b47-5e6e-4e81-b36f-a349f34fe07b"
   },
   "outputs": [
    {
     "name": "stdout",
     "output_type": "stream",
     "text": [
      "<class 'pandas.core.frame.DataFrame'>\n",
      "DatetimeIndex: 1665 entries, 1881-01-01 to 2019-09-01\n",
      "Data columns (total 13 columns):\n",
      "P             1665 non-null float64\n",
      "D             1665 non-null float64\n",
      "E             1665 non-null float64\n",
      "CPI           1665 non-null float64\n",
      "Fraction      1665 non-null float64\n",
      "Rate GS10     1665 non-null object\n",
      "Price         1665 non-null float64\n",
      "Dividend      1665 non-null float64\n",
      "Price.1       1665 non-null float64\n",
      "Earnings      1665 non-null float64\n",
      "Earnings.1    1665 non-null float64\n",
      "CAPE          1665 non-null float64\n",
      "TR CAPE       1665 non-null float64\n",
      "dtypes: float64(12), object(1)\n",
      "memory usage: 182.1+ KB\n"
     ]
    }
   ],
   "source": [
    "shillerd.info()"
   ]
  },
  {
   "cell_type": "code",
   "execution_count": 60,
   "metadata": {
    "colab": {
     "base_uri": "https://localhost:8080/",
     "height": 235
    },
    "colab_type": "code",
    "id": "ZO9OpT0LofGr",
    "outputId": "9aca1bfa-b1a6-4969-eedc-cdf60c3fe243"
   },
   "outputs": [
    {
     "data": {
      "text/html": [
       "<div>\n",
       "<style scoped>\n",
       "    .dataframe tbody tr th:only-of-type {\n",
       "        vertical-align: middle;\n",
       "    }\n",
       "\n",
       "    .dataframe tbody tr th {\n",
       "        vertical-align: top;\n",
       "    }\n",
       "\n",
       "    .dataframe thead th {\n",
       "        text-align: right;\n",
       "    }\n",
       "</style>\n",
       "<table border=\"1\" class=\"dataframe\">\n",
       "  <thead>\n",
       "    <tr style=\"text-align: right;\">\n",
       "      <th></th>\n",
       "      <th>P</th>\n",
       "      <th>D</th>\n",
       "      <th>E</th>\n",
       "      <th>CPI</th>\n",
       "      <th>Fraction</th>\n",
       "      <th>Rate GS10</th>\n",
       "      <th>Price</th>\n",
       "      <th>Dividend</th>\n",
       "      <th>Price.1</th>\n",
       "      <th>Earnings</th>\n",
       "      <th>Earnings.1</th>\n",
       "      <th>CAPE</th>\n",
       "      <th>TR CAPE</th>\n",
       "    </tr>\n",
       "    <tr>\n",
       "      <th>Date</th>\n",
       "      <th></th>\n",
       "      <th></th>\n",
       "      <th></th>\n",
       "      <th></th>\n",
       "      <th></th>\n",
       "      <th></th>\n",
       "      <th></th>\n",
       "      <th></th>\n",
       "      <th></th>\n",
       "      <th></th>\n",
       "      <th></th>\n",
       "      <th></th>\n",
       "      <th></th>\n",
       "    </tr>\n",
       "  </thead>\n",
       "  <tbody>\n",
       "    <tr>\n",
       "      <th>2019-05-01</th>\n",
       "      <td>2854.71</td>\n",
       "      <td>55.70</td>\n",
       "      <td>134.98</td>\n",
       "      <td>256.09</td>\n",
       "      <td>2019.37</td>\n",
       "      <td>2.40</td>\n",
       "      <td>2866.38</td>\n",
       "      <td>55.93</td>\n",
       "      <td>1757208.78</td>\n",
       "      <td>135.53</td>\n",
       "      <td>83084.51</td>\n",
       "      <td>29.24</td>\n",
       "      <td>31.93</td>\n",
       "    </tr>\n",
       "    <tr>\n",
       "      <th>2019-06-01</th>\n",
       "      <td>2890.17</td>\n",
       "      <td>56.08</td>\n",
       "      <td>135.27</td>\n",
       "      <td>256.14</td>\n",
       "      <td>2019.46</td>\n",
       "      <td>2.06</td>\n",
       "      <td>2901.41</td>\n",
       "      <td>56.30</td>\n",
       "      <td>1781557.81</td>\n",
       "      <td>135.80</td>\n",
       "      <td>83383.10</td>\n",
       "      <td>29.28</td>\n",
       "      <td>31.99</td>\n",
       "    </tr>\n",
       "    <tr>\n",
       "      <th>2019-07-01</th>\n",
       "      <td>2996.11</td>\n",
       "      <td>56.46</td>\n",
       "      <td>134.50</td>\n",
       "      <td>256.57</td>\n",
       "      <td>2019.54</td>\n",
       "      <td>1.63</td>\n",
       "      <td>3002.75</td>\n",
       "      <td>56.58</td>\n",
       "      <td>1846678.03</td>\n",
       "      <td>134.79</td>\n",
       "      <td>82898.07</td>\n",
       "      <td>29.99</td>\n",
       "      <td>32.77</td>\n",
       "    </tr>\n",
       "    <tr>\n",
       "      <th>2019-08-01</th>\n",
       "      <td>2897.50</td>\n",
       "      <td>56.84</td>\n",
       "      <td>133.72</td>\n",
       "      <td>256.56</td>\n",
       "      <td>2019.62</td>\n",
       "      <td>1.63</td>\n",
       "      <td>2904.06</td>\n",
       "      <td>56.97</td>\n",
       "      <td>1788905.70</td>\n",
       "      <td>134.03</td>\n",
       "      <td>82560.34</td>\n",
       "      <td>28.71</td>\n",
       "      <td>31.39</td>\n",
       "    </tr>\n",
       "    <tr>\n",
       "      <th>2019-09-01</th>\n",
       "      <td>2982.16</td>\n",
       "      <td>57.22</td>\n",
       "      <td>132.95</td>\n",
       "      <td>256.76</td>\n",
       "      <td>2019.71</td>\n",
       "      <td>1.70</td>\n",
       "      <td>2986.57</td>\n",
       "      <td>57.30</td>\n",
       "      <td>1842673.46</td>\n",
       "      <td>133.15</td>\n",
       "      <td>82149.77</td>\n",
       "      <td>29.23</td>\n",
       "      <td>31.97</td>\n",
       "    </tr>\n",
       "  </tbody>\n",
       "</table>\n",
       "</div>"
      ],
      "text/plain": [
       "                  P      D       E     CPI  Fraction Rate GS10    Price  \\\n",
       "Date                                                                      \n",
       "2019-05-01  2854.71  55.70  134.98  256.09   2019.37      2.40  2866.38   \n",
       "2019-06-01  2890.17  56.08  135.27  256.14   2019.46      2.06  2901.41   \n",
       "2019-07-01  2996.11  56.46  134.50  256.57   2019.54      1.63  3002.75   \n",
       "2019-08-01  2897.50  56.84  133.72  256.56   2019.62      1.63  2904.06   \n",
       "2019-09-01  2982.16  57.22  132.95  256.76   2019.71      1.70  2986.57   \n",
       "\n",
       "            Dividend     Price.1  Earnings  Earnings.1   CAPE  TR CAPE  \n",
       "Date                                                                    \n",
       "2019-05-01     55.93  1757208.78    135.53    83084.51  29.24    31.93  \n",
       "2019-06-01     56.30  1781557.81    135.80    83383.10  29.28    31.99  \n",
       "2019-07-01     56.58  1846678.03    134.79    82898.07  29.99    32.77  \n",
       "2019-08-01     56.97  1788905.70    134.03    82560.34  28.71    31.39  \n",
       "2019-09-01     57.30  1842673.46    133.15    82149.77  29.23    31.97  "
      ]
     },
     "execution_count": 60,
     "metadata": {},
     "output_type": "execute_result"
    }
   ],
   "source": [
    "shillerd.tail()"
   ]
  },
  {
   "cell_type": "code",
   "execution_count": 61,
   "metadata": {
    "colab": {},
    "colab_type": "code",
    "id": "-OLJzjk5pLXo"
   },
   "outputs": [],
   "source": [
    "shillerd2 = shillerd.groupby(shillerd.index).first()"
   ]
  },
  {
   "cell_type": "code",
   "execution_count": 62,
   "metadata": {
    "colab": {
     "base_uri": "https://localhost:8080/",
     "height": 235
    },
    "colab_type": "code",
    "id": "6N8yid5Zpqc3",
    "outputId": "108efa01-a00c-4132-b874-eac37f9cc76f"
   },
   "outputs": [
    {
     "data": {
      "text/html": [
       "<div>\n",
       "<style scoped>\n",
       "    .dataframe tbody tr th:only-of-type {\n",
       "        vertical-align: middle;\n",
       "    }\n",
       "\n",
       "    .dataframe tbody tr th {\n",
       "        vertical-align: top;\n",
       "    }\n",
       "\n",
       "    .dataframe thead th {\n",
       "        text-align: right;\n",
       "    }\n",
       "</style>\n",
       "<table border=\"1\" class=\"dataframe\">\n",
       "  <thead>\n",
       "    <tr style=\"text-align: right;\">\n",
       "      <th></th>\n",
       "      <th>P</th>\n",
       "      <th>D</th>\n",
       "      <th>E</th>\n",
       "      <th>CPI</th>\n",
       "      <th>Fraction</th>\n",
       "      <th>Rate GS10</th>\n",
       "      <th>Price</th>\n",
       "      <th>Dividend</th>\n",
       "      <th>Price.1</th>\n",
       "      <th>Earnings</th>\n",
       "      <th>Earnings.1</th>\n",
       "      <th>CAPE</th>\n",
       "      <th>TR CAPE</th>\n",
       "    </tr>\n",
       "    <tr>\n",
       "      <th>Date</th>\n",
       "      <th></th>\n",
       "      <th></th>\n",
       "      <th></th>\n",
       "      <th></th>\n",
       "      <th></th>\n",
       "      <th></th>\n",
       "      <th></th>\n",
       "      <th></th>\n",
       "      <th></th>\n",
       "      <th></th>\n",
       "      <th></th>\n",
       "      <th></th>\n",
       "      <th></th>\n",
       "    </tr>\n",
       "  </thead>\n",
       "  <tbody>\n",
       "    <tr>\n",
       "      <th>1881-01-01</th>\n",
       "      <td>6.19</td>\n",
       "      <td>0.27</td>\n",
       "      <td>0.49</td>\n",
       "      <td>9.42</td>\n",
       "      <td>1881.04</td>\n",
       "      <td>3.70</td>\n",
       "      <td>168.98</td>\n",
       "      <td>7.23</td>\n",
       "      <td>312.62</td>\n",
       "      <td>13.26</td>\n",
       "      <td>24.53</td>\n",
       "      <td>18.47</td>\n",
       "      <td>24.14</td>\n",
       "    </tr>\n",
       "    <tr>\n",
       "      <th>1881-02-01</th>\n",
       "      <td>6.17</td>\n",
       "      <td>0.27</td>\n",
       "      <td>0.48</td>\n",
       "      <td>9.51</td>\n",
       "      <td>1881.12</td>\n",
       "      <td>3.69</td>\n",
       "      <td>166.75</td>\n",
       "      <td>7.30</td>\n",
       "      <td>309.62</td>\n",
       "      <td>13.02</td>\n",
       "      <td>24.17</td>\n",
       "      <td>18.15</td>\n",
       "      <td>23.66</td>\n",
       "    </tr>\n",
       "    <tr>\n",
       "      <th>1881-03-01</th>\n",
       "      <td>6.24</td>\n",
       "      <td>0.28</td>\n",
       "      <td>0.48</td>\n",
       "      <td>9.51</td>\n",
       "      <td>1881.21</td>\n",
       "      <td>3.69</td>\n",
       "      <td>168.64</td>\n",
       "      <td>7.43</td>\n",
       "      <td>314.28</td>\n",
       "      <td>12.90</td>\n",
       "      <td>24.05</td>\n",
       "      <td>18.27</td>\n",
       "      <td>23.77</td>\n",
       "    </tr>\n",
       "    <tr>\n",
       "      <th>1881-04-01</th>\n",
       "      <td>6.22</td>\n",
       "      <td>0.28</td>\n",
       "      <td>0.47</td>\n",
       "      <td>9.61</td>\n",
       "      <td>1881.29</td>\n",
       "      <td>3.68</td>\n",
       "      <td>166.44</td>\n",
       "      <td>7.49</td>\n",
       "      <td>311.34</td>\n",
       "      <td>12.66</td>\n",
       "      <td>23.69</td>\n",
       "      <td>17.95</td>\n",
       "      <td>23.31</td>\n",
       "    </tr>\n",
       "    <tr>\n",
       "      <th>1881-05-01</th>\n",
       "      <td>6.50</td>\n",
       "      <td>0.29</td>\n",
       "      <td>0.47</td>\n",
       "      <td>9.51</td>\n",
       "      <td>1881.37</td>\n",
       "      <td>3.67</td>\n",
       "      <td>175.67</td>\n",
       "      <td>7.70</td>\n",
       "      <td>329.81</td>\n",
       "      <td>12.68</td>\n",
       "      <td>23.81</td>\n",
       "      <td>18.87</td>\n",
       "      <td>24.46</td>\n",
       "    </tr>\n",
       "  </tbody>\n",
       "</table>\n",
       "</div>"
      ],
      "text/plain": [
       "               P     D     E   CPI  Fraction Rate GS10   Price  Dividend  \\\n",
       "Date                                                                       \n",
       "1881-01-01  6.19  0.27  0.49  9.42   1881.04      3.70  168.98      7.23   \n",
       "1881-02-01  6.17  0.27  0.48  9.51   1881.12      3.69  166.75      7.30   \n",
       "1881-03-01  6.24  0.28  0.48  9.51   1881.21      3.69  168.64      7.43   \n",
       "1881-04-01  6.22  0.28  0.47  9.61   1881.29      3.68  166.44      7.49   \n",
       "1881-05-01  6.50  0.29  0.47  9.51   1881.37      3.67  175.67      7.70   \n",
       "\n",
       "            Price.1  Earnings  Earnings.1   CAPE  TR CAPE  \n",
       "Date                                                       \n",
       "1881-01-01   312.62     13.26       24.53  18.47    24.14  \n",
       "1881-02-01   309.62     13.02       24.17  18.15    23.66  \n",
       "1881-03-01   314.28     12.90       24.05  18.27    23.77  \n",
       "1881-04-01   311.34     12.66       23.69  17.95    23.31  \n",
       "1881-05-01   329.81     12.68       23.81  18.87    24.46  "
      ]
     },
     "execution_count": 62,
     "metadata": {},
     "output_type": "execute_result"
    }
   ],
   "source": [
    "shillerd2.head()"
   ]
  },
  {
   "cell_type": "code",
   "execution_count": 64,
   "metadata": {
    "colab": {},
    "colab_type": "code",
    "id": "UDVelMcQmcU6"
   },
   "outputs": [],
   "source": [
    "shiller = shillerd2.resample('D').pad()"
   ]
  },
  {
   "cell_type": "code",
   "execution_count": 60,
   "metadata": {
    "colab": {},
    "colab_type": "code",
    "id": "IKT72eZqmcU-"
   },
   "outputs": [],
   "source": []
  },
  {
   "cell_type": "markdown",
   "metadata": {
    "colab_type": "text",
    "id": "8MYzhxmNmcU_"
   },
   "source": [
    "Compute dividend in percentage terms."
   ]
  },
  {
   "cell_type": "code",
   "execution_count": 65,
   "metadata": {
    "colab": {},
    "colab_type": "code",
    "id": "3yXoNPQXmcU_"
   },
   "outputs": [],
   "source": [
    "shiller['perdiv'] = shiller.D/(365 * shiller.P)"
   ]
  },
  {
   "cell_type": "markdown",
   "metadata": {
    "colab_type": "text",
    "id": "u12XsoXemcVA"
   },
   "source": [
    "CAPE (or the Shiller P/E ratio) is a smoothed (over 10 years) version of the price to earnings ratio. Notice that even with the smoothing it is a bit feverish."
   ]
  },
  {
   "cell_type": "code",
   "execution_count": 66,
   "metadata": {
    "colab": {
     "base_uri": "https://localhost:8080/",
     "height": 296
    },
    "colab_type": "code",
    "id": "PvaxKeyhmcVA",
    "outputId": "84c4d8c0-4d7b-4288-934f-903ac6773078"
   },
   "outputs": [
    {
     "data": {
      "text/plain": [
       "<matplotlib.axes._subplots.AxesSubplot at 0x7f853b6b4f90>"
      ]
     },
     "execution_count": 66,
     "metadata": {},
     "output_type": "execute_result"
    },
    {
     "data": {
      "image/png": "[encoded data removed]",
      "text/plain": [
       "<Figure size 432x288 with 1 Axes>"
      ]
     },
     "metadata": {
      "needs_background": "light"
     },
     "output_type": "display_data"
    }
   ],
   "source": [
    "shiller.CAPE.plot()"
   ]
  },
  {
   "cell_type": "code",
   "execution_count": 67,
   "metadata": {
    "colab": {},
    "colab_type": "code",
    "id": "FOiO6r7MmcVB"
   },
   "outputs": [],
   "source": [
    "newf = pd.concat([sandpa, shiller[['perdiv', 'CAPE']]], axis=1)"
   ]
  },
  {
   "cell_type": "code",
   "execution_count": 68,
   "metadata": {
    "colab": {},
    "colab_type": "code",
    "id": "dM-gNDQbmcVC"
   },
   "outputs": [],
   "source": [
    "newsandpa = newf.fillna(method='ffill').dropna()"
   ]
  },
  {
   "cell_type": "markdown",
   "metadata": {
    "colab_type": "text",
    "id": "bx8ak8D6mcVD"
   },
   "source": [
    "We can now combine the actual return and the dividend yield to get the true return."
   ]
  },
  {
   "cell_type": "code",
   "execution_count": 69,
   "metadata": {
    "colab": {},
    "colab_type": "code",
    "id": "98AECjNPmcVE"
   },
   "outputs": [],
   "source": [
    "newsandpa['totret']=newsandpa.ac.pct_change() + newsandpa.perdiv"
   ]
  },
  {
   "cell_type": "markdown",
   "metadata": {
    "colab_type": "text",
    "id": "kB-FlsH0mcVF"
   },
   "source": [
    "Now we combine the macro data and the equities data."
   ]
  },
  {
   "cell_type": "code",
   "execution_count": 70,
   "metadata": {
    "colab": {},
    "colab_type": "code",
    "id": "Gov3Rb9rmcVF"
   },
   "outputs": [],
   "source": [
    "alldata = pd.concat([newsandpa, feddata], axis=1).dropna()"
   ]
  },
  {
   "cell_type": "markdown",
   "metadata": {
    "colab_type": "text",
    "id": "mpkeKaQWmcVG"
   },
   "source": [
    "And now we adjust the returns by the inflation rate and also by the treasury rate. If we were running a hedge fund, our incentive allocation is computed on the outperformance of the benchmark (typically the treasury rate)."
   ]
  },
  {
   "cell_type": "code",
   "execution_count": 71,
   "metadata": {
    "colab": {},
    "colab_type": "code",
    "id": "Wglq3XNOmcVG"
   },
   "outputs": [],
   "source": [
    "alldata['trueac'] = alldata.totret - alldata.inflation_CPI/36500\n",
    "alldata['treasac'] = alldata.totret - alldata.treasury_rate/36500"
   ]
  },
  {
   "cell_type": "code",
   "execution_count": 72,
   "metadata": {
    "colab": {},
    "colab_type": "code",
    "id": "t3v0NZuXmcVH"
   },
   "outputs": [],
   "source": [
    "alldata.drop('ac', axis=1, inplace=True)"
   ]
  },
  {
   "cell_type": "code",
   "execution_count": 73,
   "metadata": {
    "colab": {
     "base_uri": "https://localhost:8080/",
     "height": 503
    },
    "colab_type": "code",
    "id": "oO1lb_1NmcVI",
    "outputId": "e9214ea7-c413-40dc-b29a-6fb0f2d38e0b"
   },
   "outputs": [
    {
     "data": {
      "text/html": [
       "<div>\n",
       "<style scoped>\n",
       "    .dataframe tbody tr th:only-of-type {\n",
       "        vertical-align: middle;\n",
       "    }\n",
       "\n",
       "    .dataframe tbody tr th {\n",
       "        vertical-align: top;\n",
       "    }\n",
       "\n",
       "    .dataframe thead th {\n",
       "        text-align: right;\n",
       "    }\n",
       "</style>\n",
       "<table border=\"1\" class=\"dataframe\">\n",
       "  <thead>\n",
       "    <tr style=\"text-align: right;\">\n",
       "      <th></th>\n",
       "      <th>perdiv</th>\n",
       "      <th>CAPE</th>\n",
       "      <th>totret</th>\n",
       "      <th>FEDFUNDS</th>\n",
       "      <th>unemployment_rate</th>\n",
       "      <th>total_nonfarm_payroll</th>\n",
       "      <th>inflation_CPI</th>\n",
       "      <th>Real_personal_consumption</th>\n",
       "      <th>treasury_rate</th>\n",
       "      <th>personal_savings_rate</th>\n",
       "      <th>real_gdp_growth</th>\n",
       "      <th>real_profits</th>\n",
       "      <th>trueac</th>\n",
       "      <th>treasac</th>\n",
       "    </tr>\n",
       "  </thead>\n",
       "  <tbody>\n",
       "    <tr>\n",
       "      <th>perdiv</th>\n",
       "      <td>1.000000</td>\n",
       "      <td>-0.902402</td>\n",
       "      <td>0.000234</td>\n",
       "      <td>0.721524</td>\n",
       "      <td>0.397601</td>\n",
       "      <td>0.119500</td>\n",
       "      <td>0.706686</td>\n",
       "      <td>-0.058496</td>\n",
       "      <td>0.766902</td>\n",
       "      <td>0.727077</td>\n",
       "      <td>-0.051837</td>\n",
       "      <td>-0.191974</td>\n",
       "      <td>-0.006087</td>\n",
       "      <td>-0.006984</td>\n",
       "    </tr>\n",
       "    <tr>\n",
       "      <th>CAPE</th>\n",
       "      <td>-0.902402</td>\n",
       "      <td>1.000000</td>\n",
       "      <td>0.001019</td>\n",
       "      <td>-0.550237</td>\n",
       "      <td>-0.569131</td>\n",
       "      <td>-0.004723</td>\n",
       "      <td>-0.603540</td>\n",
       "      <td>0.109591</td>\n",
       "      <td>-0.652727</td>\n",
       "      <td>-0.647678</td>\n",
       "      <td>0.113313</td>\n",
       "      <td>0.037993</td>\n",
       "      <td>0.006417</td>\n",
       "      <td>0.007163</td>\n",
       "    </tr>\n",
       "    <tr>\n",
       "      <th>totret</th>\n",
       "      <td>0.000234</td>\n",
       "      <td>0.001019</td>\n",
       "      <td>1.000000</td>\n",
       "      <td>-0.006780</td>\n",
       "      <td>0.012812</td>\n",
       "      <td>-0.008010</td>\n",
       "      <td>-0.008636</td>\n",
       "      <td>0.012347</td>\n",
       "      <td>-0.003259</td>\n",
       "      <td>-0.000840</td>\n",
       "      <td>-0.002268</td>\n",
       "      <td>0.000343</td>\n",
       "      <td>0.999960</td>\n",
       "      <td>0.999956</td>\n",
       "    </tr>\n",
       "    <tr>\n",
       "      <th>FEDFUNDS</th>\n",
       "      <td>0.721524</td>\n",
       "      <td>-0.550237</td>\n",
       "      <td>-0.006780</td>\n",
       "      <td>1.000000</td>\n",
       "      <td>0.064552</td>\n",
       "      <td>0.220578</td>\n",
       "      <td>0.756189</td>\n",
       "      <td>-0.064496</td>\n",
       "      <td>0.901599</td>\n",
       "      <td>0.459517</td>\n",
       "      <td>0.042275</td>\n",
       "      <td>-0.238513</td>\n",
       "      <td>-0.013543</td>\n",
       "      <td>-0.015266</td>\n",
       "    </tr>\n",
       "    <tr>\n",
       "      <th>unemployment_rate</th>\n",
       "      <td>0.397601</td>\n",
       "      <td>-0.569131</td>\n",
       "      <td>0.012812</td>\n",
       "      <td>0.064552</td>\n",
       "      <td>1.000000</td>\n",
       "      <td>-0.484501</td>\n",
       "      <td>0.151262</td>\n",
       "      <td>-0.092313</td>\n",
       "      <td>0.320710</td>\n",
       "      <td>0.140202</td>\n",
       "      <td>-0.319049</td>\n",
       "      <td>0.030023</td>\n",
       "      <td>0.011457</td>\n",
       "      <td>0.009792</td>\n",
       "    </tr>\n",
       "    <tr>\n",
       "      <th>total_nonfarm_payroll</th>\n",
       "      <td>0.119500</td>\n",
       "      <td>-0.004723</td>\n",
       "      <td>-0.008010</td>\n",
       "      <td>0.220578</td>\n",
       "      <td>-0.484501</td>\n",
       "      <td>1.000000</td>\n",
       "      <td>0.069562</td>\n",
       "      <td>0.277711</td>\n",
       "      <td>0.101281</td>\n",
       "      <td>0.244964</td>\n",
       "      <td>0.781638</td>\n",
       "      <td>0.147831</td>\n",
       "      <td>-0.008631</td>\n",
       "      <td>-0.008962</td>\n",
       "    </tr>\n",
       "    <tr>\n",
       "      <th>inflation_CPI</th>\n",
       "      <td>0.706686</td>\n",
       "      <td>-0.603540</td>\n",
       "      <td>-0.008636</td>\n",
       "      <td>0.756189</td>\n",
       "      <td>0.151262</td>\n",
       "      <td>0.069562</td>\n",
       "      <td>1.000000</td>\n",
       "      <td>-0.229364</td>\n",
       "      <td>0.664758</td>\n",
       "      <td>0.486377</td>\n",
       "      <td>-0.191697</td>\n",
       "      <td>-0.221602</td>\n",
       "      <td>-0.017580</td>\n",
       "      <td>-0.014892</td>\n",
       "    </tr>\n",
       "    <tr>\n",
       "      <th>Real_personal_consumption</th>\n",
       "      <td>-0.058496</td>\n",
       "      <td>0.109591</td>\n",
       "      <td>0.012347</td>\n",
       "      <td>-0.064496</td>\n",
       "      <td>-0.092313</td>\n",
       "      <td>0.277711</td>\n",
       "      <td>-0.229364</td>\n",
       "      <td>1.000000</td>\n",
       "      <td>0.024818</td>\n",
       "      <td>0.111853</td>\n",
       "      <td>0.510963</td>\n",
       "      <td>0.171377</td>\n",
       "      <td>0.014398</td>\n",
       "      <td>0.012113</td>\n",
       "    </tr>\n",
       "    <tr>\n",
       "      <th>treasury_rate</th>\n",
       "      <td>0.766902</td>\n",
       "      <td>-0.652727</td>\n",
       "      <td>-0.003259</td>\n",
       "      <td>0.901599</td>\n",
       "      <td>0.320710</td>\n",
       "      <td>0.101281</td>\n",
       "      <td>0.664758</td>\n",
       "      <td>0.024818</td>\n",
       "      <td>1.000000</td>\n",
       "      <td>0.438219</td>\n",
       "      <td>0.046450</td>\n",
       "      <td>-0.164132</td>\n",
       "      <td>-0.009205</td>\n",
       "      <td>-0.012672</td>\n",
       "    </tr>\n",
       "    <tr>\n",
       "      <th>personal_savings_rate</th>\n",
       "      <td>0.727077</td>\n",
       "      <td>-0.647678</td>\n",
       "      <td>-0.000840</td>\n",
       "      <td>0.459517</td>\n",
       "      <td>0.140202</td>\n",
       "      <td>0.244964</td>\n",
       "      <td>0.486377</td>\n",
       "      <td>0.111853</td>\n",
       "      <td>0.438219</td>\n",
       "      <td>1.000000</td>\n",
       "      <td>0.138207</td>\n",
       "      <td>-0.094376</td>\n",
       "      <td>-0.005190</td>\n",
       "      <td>-0.004965</td>\n",
       "    </tr>\n",
       "    <tr>\n",
       "      <th>real_gdp_growth</th>\n",
       "      <td>-0.051837</td>\n",
       "      <td>0.113313</td>\n",
       "      <td>-0.002268</td>\n",
       "      <td>0.042275</td>\n",
       "      <td>-0.319049</td>\n",
       "      <td>0.781638</td>\n",
       "      <td>-0.191697</td>\n",
       "      <td>0.510963</td>\n",
       "      <td>0.046450</td>\n",
       "      <td>0.138207</td>\n",
       "      <td>1.000000</td>\n",
       "      <td>0.402946</td>\n",
       "      <td>-0.000553</td>\n",
       "      <td>-0.002705</td>\n",
       "    </tr>\n",
       "    <tr>\n",
       "      <th>real_profits</th>\n",
       "      <td>-0.191974</td>\n",
       "      <td>0.037993</td>\n",
       "      <td>0.000343</td>\n",
       "      <td>-0.238513</td>\n",
       "      <td>0.030023</td>\n",
       "      <td>0.147831</td>\n",
       "      <td>-0.221602</td>\n",
       "      <td>0.171377</td>\n",
       "      <td>-0.164132</td>\n",
       "      <td>-0.094376</td>\n",
       "      <td>0.402946</td>\n",
       "      <td>1.000000</td>\n",
       "      <td>0.002325</td>\n",
       "      <td>0.001888</td>\n",
       "    </tr>\n",
       "    <tr>\n",
       "      <th>trueac</th>\n",
       "      <td>-0.006087</td>\n",
       "      <td>0.006417</td>\n",
       "      <td>0.999960</td>\n",
       "      <td>-0.013543</td>\n",
       "      <td>0.011457</td>\n",
       "      <td>-0.008631</td>\n",
       "      <td>-0.017580</td>\n",
       "      <td>0.014398</td>\n",
       "      <td>-0.009205</td>\n",
       "      <td>-0.005190</td>\n",
       "      <td>-0.000553</td>\n",
       "      <td>0.002325</td>\n",
       "      <td>1.000000</td>\n",
       "      <td>0.999972</td>\n",
       "    </tr>\n",
       "    <tr>\n",
       "      <th>treasac</th>\n",
       "      <td>-0.006984</td>\n",
       "      <td>0.007163</td>\n",
       "      <td>0.999956</td>\n",
       "      <td>-0.015266</td>\n",
       "      <td>0.009792</td>\n",
       "      <td>-0.008962</td>\n",
       "      <td>-0.014892</td>\n",
       "      <td>0.012113</td>\n",
       "      <td>-0.012672</td>\n",
       "      <td>-0.004965</td>\n",
       "      <td>-0.002705</td>\n",
       "      <td>0.001888</td>\n",
       "      <td>0.999972</td>\n",
       "      <td>1.000000</td>\n",
       "    </tr>\n",
       "  </tbody>\n",
       "</table>\n",
       "</div>"
      ],
      "text/plain": [
       "                             perdiv      CAPE    totret  FEDFUNDS  \\\n",
       "perdiv                     1.000000 -0.902402  0.000234  0.721524   \n",
       "CAPE                      -0.902402  1.000000  0.001019 -0.550237   \n",
       "totret                     0.000234  0.001019  1.000000 -0.006780   \n",
       "FEDFUNDS                   0.721524 -0.550237 -0.006780  1.000000   \n",
       "unemployment_rate          0.397601 -0.569131  0.012812  0.064552   \n",
       "total_nonfarm_payroll      0.119500 -0.004723 -0.008010  0.220578   \n",
       "inflation_CPI              0.706686 -0.603540 -0.008636  0.756189   \n",
       "Real_personal_consumption -0.058496  0.109591  0.012347 -0.064496   \n",
       "treasury_rate              0.766902 -0.652727 -0.003259  0.901599   \n",
       "personal_savings_rate      0.727077 -0.647678 -0.000840  0.459517   \n",
       "real_gdp_growth           -0.051837  0.113313 -0.002268  0.042275   \n",
       "real_profits              -0.191974  0.037993  0.000343 -0.238513   \n",
       "trueac                    -0.006087  0.006417  0.999960 -0.013543   \n",
       "treasac                   -0.006984  0.007163  0.999956 -0.015266   \n",
       "\n",
       "                           unemployment_rate  total_nonfarm_payroll  \\\n",
       "perdiv                              0.397601               0.119500   \n",
       "CAPE                               -0.569131              -0.004723   \n",
       "totret                              0.012812              -0.008010   \n",
       "FEDFUNDS                            0.064552               0.220578   \n",
       "unemployment_rate                   1.000000              -0.484501   \n",
       "total_nonfarm_payroll              -0.484501               1.000000   \n",
       "inflation_CPI                       0.151262               0.069562   \n",
       "Real_personal_consumption          -0.092313               0.277711   \n",
       "treasury_rate                       0.320710               0.101281   \n",
       "personal_savings_rate               0.140202               0.244964   \n",
       "real_gdp_growth                    -0.319049               0.781638   \n",
       "real_profits                        0.030023               0.147831   \n",
       "trueac                              0.011457              -0.008631   \n",
       "treasac                             0.009792              -0.008962   \n",
       "\n",
       "                           inflation_CPI  Real_personal_consumption  \\\n",
       "perdiv                          0.706686                  -0.058496   \n",
       "CAPE                           -0.603540                   0.109591   \n",
       "totret                         -0.008636                   0.012347   \n",
       "FEDFUNDS                        0.756189                  -0.064496   \n",
       "unemployment_rate               0.151262                  -0.092313   \n",
       "total_nonfarm_payroll           0.069562                   0.277711   \n",
       "inflation_CPI                   1.000000                  -0.229364   \n",
       "Real_personal_consumption      -0.229364                   1.000000   \n",
       "treasury_rate                   0.664758                   0.024818   \n",
       "personal_savings_rate           0.486377                   0.111853   \n",
       "real_gdp_growth                -0.191697                   0.510963   \n",
       "real_profits                   -0.221602                   0.171377   \n",
       "trueac                         -0.017580                   0.014398   \n",
       "treasac                        -0.014892                   0.012113   \n",
       "\n",
       "                           treasury_rate  personal_savings_rate  \\\n",
       "perdiv                          0.766902               0.727077   \n",
       "CAPE                           -0.652727              -0.647678   \n",
       "totret                         -0.003259              -0.000840   \n",
       "FEDFUNDS                        0.901599               0.459517   \n",
       "unemployment_rate               0.320710               0.140202   \n",
       "total_nonfarm_payroll           0.101281               0.244964   \n",
       "inflation_CPI                   0.664758               0.486377   \n",
       "Real_personal_consumption       0.024818               0.111853   \n",
       "treasury_rate                   1.000000               0.438219   \n",
       "personal_savings_rate           0.438219               1.000000   \n",
       "real_gdp_growth                 0.046450               0.138207   \n",
       "real_profits                   -0.164132              -0.094376   \n",
       "trueac                         -0.009205              -0.005190   \n",
       "treasac                        -0.012672              -0.004965   \n",
       "\n",
       "                           real_gdp_growth  real_profits    trueac   treasac  \n",
       "perdiv                           -0.051837     -0.191974 -0.006087 -0.006984  \n",
       "CAPE                              0.113313      0.037993  0.006417  0.007163  \n",
       "totret                           -0.002268      0.000343  0.999960  0.999956  \n",
       "FEDFUNDS                          0.042275     -0.238513 -0.013543 -0.015266  \n",
       "unemployment_rate                -0.319049      0.030023  0.011457  0.009792  \n",
       "total_nonfarm_payroll             0.781638      0.147831 -0.008631 -0.008962  \n",
       "inflation_CPI                    -0.191697     -0.221602 -0.017580 -0.014892  \n",
       "Real_personal_consumption         0.510963      0.171377  0.014398  0.012113  \n",
       "treasury_rate                     0.046450     -0.164132 -0.009205 -0.012672  \n",
       "personal_savings_rate             0.138207     -0.094376 -0.005190 -0.004965  \n",
       "real_gdp_growth                   1.000000      0.402946 -0.000553 -0.002705  \n",
       "real_profits                      0.402946      1.000000  0.002325  0.001888  \n",
       "trueac                           -0.000553      0.002325  1.000000  0.999972  \n",
       "treasac                          -0.002705      0.001888  0.999972  1.000000  "
      ]
     },
     "execution_count": 73,
     "metadata": {},
     "output_type": "execute_result"
    }
   ],
   "source": [
    "alldata.corr()"
   ]
  },
  {
   "cell_type": "markdown",
   "metadata": {
    "colab_type": "text",
    "id": "RPODPx8FmcVK"
   },
   "source": [
    "We see that our returns columns ('trueac' and 'treasac') have very low correlation with the macro statistcs. We can smooth the data and see whether we can get better results. No sooner said than done - we will use exponential moving average with a 90 day decay rate. Before we do, let's note the strangely high (in absolute value) correlation between CAPE and dividend payouts. A natural conjecture is that a roughly constant percentage of the earnings is paid out as dividends. Let us check:"
   ]
  },
  {
   "cell_type": "code",
   "execution_count": 74,
   "metadata": {
    "colab": {
     "base_uri": "https://localhost:8080/",
     "height": 286
    },
    "colab_type": "code",
    "id": "yuHqBlBzmcVK",
    "outputId": "6da02dd3-f083-4046-e191-be39a1fbc6fb"
   },
   "outputs": [
    {
     "data": {
      "text/plain": [
       "<matplotlib.axes._subplots.AxesSubplot at 0x7f853a2fcd10>"
      ]
     },
     "execution_count": 74,
     "metadata": {},
     "output_type": "execute_result"
    },
    {
     "data": {
      "image/png": "[encoded data removed]",
      "text/plain": [
       "<Figure size 432x288 with 1 Axes>"
      ]
     },
     "metadata": {
      "needs_background": "light"
     },
     "output_type": "display_data"
    }
   ],
   "source": [
    "(365*alldata.perdiv*alldata.CAPE).plot()"
   ]
  },
  {
   "cell_type": "markdown",
   "metadata": {
    "colab_type": "text",
    "id": "opbDNS_cmcVL"
   },
   "source": [
    "We see that this conjecture is accurate - the ratio between the high and low ratio of payout ranges in a relative narrow range between 0.4 and 0.7. The ratio tends to go up in boom times and to drop in recessions, which certainly stands to reason, but also suggests that we should look at earnings over price:"
   ]
  },
  {
   "cell_type": "code",
   "execution_count": 75,
   "metadata": {
    "colab": {},
    "colab_type": "code",
    "id": "JRQNjud6mcVM"
   },
   "outputs": [],
   "source": [
    "alldata['CAPEinverse'] = 1/alldata.CAPE"
   ]
  },
  {
   "cell_type": "code",
   "execution_count": 76,
   "metadata": {
    "colab": {},
    "colab_type": "code",
    "id": "lxvSoYmWmcVO"
   },
   "outputs": [],
   "source": [
    "alldata.drop('CAPE', axis=1, inplace=True)"
   ]
  },
  {
   "cell_type": "code",
   "execution_count": 77,
   "metadata": {
    "colab": {
     "base_uri": "https://localhost:8080/",
     "height": 503
    },
    "colab_type": "code",
    "id": "NZC8cVU4mcVP",
    "outputId": "275c000a-08fc-40c9-a081-db9adfb629c7"
   },
   "outputs": [
    {
     "data": {
      "text/html": [
       "<div>\n",
       "<style scoped>\n",
       "    .dataframe tbody tr th:only-of-type {\n",
       "        vertical-align: middle;\n",
       "    }\n",
       "\n",
       "    .dataframe tbody tr th {\n",
       "        vertical-align: top;\n",
       "    }\n",
       "\n",
       "    .dataframe thead th {\n",
       "        text-align: right;\n",
       "    }\n",
       "</style>\n",
       "<table border=\"1\" class=\"dataframe\">\n",
       "  <thead>\n",
       "    <tr style=\"text-align: right;\">\n",
       "      <th></th>\n",
       "      <th>perdiv</th>\n",
       "      <th>totret</th>\n",
       "      <th>FEDFUNDS</th>\n",
       "      <th>unemployment_rate</th>\n",
       "      <th>total_nonfarm_payroll</th>\n",
       "      <th>inflation_CPI</th>\n",
       "      <th>Real_personal_consumption</th>\n",
       "      <th>treasury_rate</th>\n",
       "      <th>personal_savings_rate</th>\n",
       "      <th>real_gdp_growth</th>\n",
       "      <th>real_profits</th>\n",
       "      <th>trueac</th>\n",
       "      <th>treasac</th>\n",
       "      <th>CAPEinverse</th>\n",
       "    </tr>\n",
       "  </thead>\n",
       "  <tbody>\n",
       "    <tr>\n",
       "      <th>perdiv</th>\n",
       "      <td>1.000000</td>\n",
       "      <td>0.000234</td>\n",
       "      <td>0.721524</td>\n",
       "      <td>0.397601</td>\n",
       "      <td>0.119500</td>\n",
       "      <td>0.706686</td>\n",
       "      <td>-0.058496</td>\n",
       "      <td>0.766902</td>\n",
       "      <td>0.727077</td>\n",
       "      <td>-0.051837</td>\n",
       "      <td>-0.191974</td>\n",
       "      <td>-0.006087</td>\n",
       "      <td>-0.006984</td>\n",
       "      <td>0.944953</td>\n",
       "    </tr>\n",
       "    <tr>\n",
       "      <th>totret</th>\n",
       "      <td>0.000234</td>\n",
       "      <td>1.000000</td>\n",
       "      <td>-0.006780</td>\n",
       "      <td>0.012812</td>\n",
       "      <td>-0.008010</td>\n",
       "      <td>-0.008636</td>\n",
       "      <td>0.012347</td>\n",
       "      <td>-0.003259</td>\n",
       "      <td>-0.000840</td>\n",
       "      <td>-0.002268</td>\n",
       "      <td>0.000343</td>\n",
       "      <td>0.999960</td>\n",
       "      <td>0.999956</td>\n",
       "      <td>0.001069</td>\n",
       "    </tr>\n",
       "    <tr>\n",
       "      <th>FEDFUNDS</th>\n",
       "      <td>0.721524</td>\n",
       "      <td>-0.006780</td>\n",
       "      <td>1.000000</td>\n",
       "      <td>0.064552</td>\n",
       "      <td>0.220578</td>\n",
       "      <td>0.756189</td>\n",
       "      <td>-0.064496</td>\n",
       "      <td>0.901599</td>\n",
       "      <td>0.459517</td>\n",
       "      <td>0.042275</td>\n",
       "      <td>-0.238513</td>\n",
       "      <td>-0.013543</td>\n",
       "      <td>-0.015266</td>\n",
       "      <td>0.716393</td>\n",
       "    </tr>\n",
       "    <tr>\n",
       "      <th>unemployment_rate</th>\n",
       "      <td>0.397601</td>\n",
       "      <td>0.012812</td>\n",
       "      <td>0.064552</td>\n",
       "      <td>1.000000</td>\n",
       "      <td>-0.484501</td>\n",
       "      <td>0.151262</td>\n",
       "      <td>-0.092313</td>\n",
       "      <td>0.320710</td>\n",
       "      <td>0.140202</td>\n",
       "      <td>-0.319049</td>\n",
       "      <td>0.030023</td>\n",
       "      <td>0.011457</td>\n",
       "      <td>0.009792</td>\n",
       "      <td>0.562701</td>\n",
       "    </tr>\n",
       "    <tr>\n",
       "      <th>total_nonfarm_payroll</th>\n",
       "      <td>0.119500</td>\n",
       "      <td>-0.008010</td>\n",
       "      <td>0.220578</td>\n",
       "      <td>-0.484501</td>\n",
       "      <td>1.000000</td>\n",
       "      <td>0.069562</td>\n",
       "      <td>0.277711</td>\n",
       "      <td>0.101281</td>\n",
       "      <td>0.244964</td>\n",
       "      <td>0.781638</td>\n",
       "      <td>0.147831</td>\n",
       "      <td>-0.008631</td>\n",
       "      <td>-0.008962</td>\n",
       "      <td>-0.013250</td>\n",
       "    </tr>\n",
       "    <tr>\n",
       "      <th>inflation_CPI</th>\n",
       "      <td>0.706686</td>\n",
       "      <td>-0.008636</td>\n",
       "      <td>0.756189</td>\n",
       "      <td>0.151262</td>\n",
       "      <td>0.069562</td>\n",
       "      <td>1.000000</td>\n",
       "      <td>-0.229364</td>\n",
       "      <td>0.664758</td>\n",
       "      <td>0.486377</td>\n",
       "      <td>-0.191697</td>\n",
       "      <td>-0.221602</td>\n",
       "      <td>-0.017580</td>\n",
       "      <td>-0.014892</td>\n",
       "      <td>0.729407</td>\n",
       "    </tr>\n",
       "    <tr>\n",
       "      <th>Real_personal_consumption</th>\n",
       "      <td>-0.058496</td>\n",
       "      <td>0.012347</td>\n",
       "      <td>-0.064496</td>\n",
       "      <td>-0.092313</td>\n",
       "      <td>0.277711</td>\n",
       "      <td>-0.229364</td>\n",
       "      <td>1.000000</td>\n",
       "      <td>0.024818</td>\n",
       "      <td>0.111853</td>\n",
       "      <td>0.510963</td>\n",
       "      <td>0.171377</td>\n",
       "      <td>0.014398</td>\n",
       "      <td>0.012113</td>\n",
       "      <td>-0.099521</td>\n",
       "    </tr>\n",
       "    <tr>\n",
       "      <th>treasury_rate</th>\n",
       "      <td>0.766902</td>\n",
       "      <td>-0.003259</td>\n",
       "      <td>0.901599</td>\n",
       "      <td>0.320710</td>\n",
       "      <td>0.101281</td>\n",
       "      <td>0.664758</td>\n",
       "      <td>0.024818</td>\n",
       "      <td>1.000000</td>\n",
       "      <td>0.438219</td>\n",
       "      <td>0.046450</td>\n",
       "      <td>-0.164132</td>\n",
       "      <td>-0.009205</td>\n",
       "      <td>-0.012672</td>\n",
       "      <td>0.799332</td>\n",
       "    </tr>\n",
       "    <tr>\n",
       "      <th>personal_savings_rate</th>\n",
       "      <td>0.727077</td>\n",
       "      <td>-0.000840</td>\n",
       "      <td>0.459517</td>\n",
       "      <td>0.140202</td>\n",
       "      <td>0.244964</td>\n",
       "      <td>0.486377</td>\n",
       "      <td>0.111853</td>\n",
       "      <td>0.438219</td>\n",
       "      <td>1.000000</td>\n",
       "      <td>0.138207</td>\n",
       "      <td>-0.094376</td>\n",
       "      <td>-0.005190</td>\n",
       "      <td>-0.004965</td>\n",
       "      <td>0.590508</td>\n",
       "    </tr>\n",
       "    <tr>\n",
       "      <th>real_gdp_growth</th>\n",
       "      <td>-0.051837</td>\n",
       "      <td>-0.002268</td>\n",
       "      <td>0.042275</td>\n",
       "      <td>-0.319049</td>\n",
       "      <td>0.781638</td>\n",
       "      <td>-0.191697</td>\n",
       "      <td>0.510963</td>\n",
       "      <td>0.046450</td>\n",
       "      <td>0.138207</td>\n",
       "      <td>1.000000</td>\n",
       "      <td>0.402946</td>\n",
       "      <td>-0.000553</td>\n",
       "      <td>-0.002705</td>\n",
       "      <td>-0.135765</td>\n",
       "    </tr>\n",
       "    <tr>\n",
       "      <th>real_profits</th>\n",
       "      <td>-0.191974</td>\n",
       "      <td>0.000343</td>\n",
       "      <td>-0.238513</td>\n",
       "      <td>0.030023</td>\n",
       "      <td>0.147831</td>\n",
       "      <td>-0.221602</td>\n",
       "      <td>0.171377</td>\n",
       "      <td>-0.164132</td>\n",
       "      <td>-0.094376</td>\n",
       "      <td>0.402946</td>\n",
       "      <td>1.000000</td>\n",
       "      <td>0.002325</td>\n",
       "      <td>0.001888</td>\n",
       "      <td>-0.177425</td>\n",
       "    </tr>\n",
       "    <tr>\n",
       "      <th>trueac</th>\n",
       "      <td>-0.006087</td>\n",
       "      <td>0.999960</td>\n",
       "      <td>-0.013543</td>\n",
       "      <td>0.011457</td>\n",
       "      <td>-0.008631</td>\n",
       "      <td>-0.017580</td>\n",
       "      <td>0.014398</td>\n",
       "      <td>-0.009205</td>\n",
       "      <td>-0.005190</td>\n",
       "      <td>-0.000553</td>\n",
       "      <td>0.002325</td>\n",
       "      <td>1.000000</td>\n",
       "      <td>0.999972</td>\n",
       "      <td>-0.005455</td>\n",
       "    </tr>\n",
       "    <tr>\n",
       "      <th>treasac</th>\n",
       "      <td>-0.006984</td>\n",
       "      <td>0.999956</td>\n",
       "      <td>-0.015266</td>\n",
       "      <td>0.009792</td>\n",
       "      <td>-0.008962</td>\n",
       "      <td>-0.014892</td>\n",
       "      <td>0.012113</td>\n",
       "      <td>-0.012672</td>\n",
       "      <td>-0.004965</td>\n",
       "      <td>-0.002705</td>\n",
       "      <td>0.001888</td>\n",
       "      <td>0.999972</td>\n",
       "      <td>1.000000</td>\n",
       "      <td>-0.006455</td>\n",
       "    </tr>\n",
       "    <tr>\n",
       "      <th>CAPEinverse</th>\n",
       "      <td>0.944953</td>\n",
       "      <td>0.001069</td>\n",
       "      <td>0.716393</td>\n",
       "      <td>0.562701</td>\n",
       "      <td>-0.013250</td>\n",
       "      <td>0.729407</td>\n",
       "      <td>-0.099521</td>\n",
       "      <td>0.799332</td>\n",
       "      <td>0.590508</td>\n",
       "      <td>-0.135765</td>\n",
       "      <td>-0.177425</td>\n",
       "      <td>-0.005455</td>\n",
       "      <td>-0.006455</td>\n",
       "      <td>1.000000</td>\n",
       "    </tr>\n",
       "  </tbody>\n",
       "</table>\n",
       "</div>"
      ],
      "text/plain": [
       "                             perdiv    totret  FEDFUNDS  unemployment_rate  \\\n",
       "perdiv                     1.000000  0.000234  0.721524           0.397601   \n",
       "totret                     0.000234  1.000000 -0.006780           0.012812   \n",
       "FEDFUNDS                   0.721524 -0.006780  1.000000           0.064552   \n",
       "unemployment_rate          0.397601  0.012812  0.064552           1.000000   \n",
       "total_nonfarm_payroll      0.119500 -0.008010  0.220578          -0.484501   \n",
       "inflation_CPI              0.706686 -0.008636  0.756189           0.151262   \n",
       "Real_personal_consumption -0.058496  0.012347 -0.064496          -0.092313   \n",
       "treasury_rate              0.766902 -0.003259  0.901599           0.320710   \n",
       "personal_savings_rate      0.727077 -0.000840  0.459517           0.140202   \n",
       "real_gdp_growth           -0.051837 -0.002268  0.042275          -0.319049   \n",
       "real_profits              -0.191974  0.000343 -0.238513           0.030023   \n",
       "trueac                    -0.006087  0.999960 -0.013543           0.011457   \n",
       "treasac                   -0.006984  0.999956 -0.015266           0.009792   \n",
       "CAPEinverse                0.944953  0.001069  0.716393           0.562701   \n",
       "\n",
       "                           total_nonfarm_payroll  inflation_CPI  \\\n",
       "perdiv                                  0.119500       0.706686   \n",
       "totret                                 -0.008010      -0.008636   \n",
       "FEDFUNDS                                0.220578       0.756189   \n",
       "unemployment_rate                      -0.484501       0.151262   \n",
       "total_nonfarm_payroll                   1.000000       0.069562   \n",
       "inflation_CPI                           0.069562       1.000000   \n",
       "Real_personal_consumption               0.277711      -0.229364   \n",
       "treasury_rate                           0.101281       0.664758   \n",
       "personal_savings_rate                   0.244964       0.486377   \n",
       "real_gdp_growth                         0.781638      -0.191697   \n",
       "real_profits                            0.147831      -0.221602   \n",
       "trueac                                 -0.008631      -0.017580   \n",
       "treasac                                -0.008962      -0.014892   \n",
       "CAPEinverse                            -0.013250       0.729407   \n",
       "\n",
       "                           Real_personal_consumption  treasury_rate  \\\n",
       "perdiv                                     -0.058496       0.766902   \n",
       "totret                                      0.012347      -0.003259   \n",
       "FEDFUNDS                                   -0.064496       0.901599   \n",
       "unemployment_rate                          -0.092313       0.320710   \n",
       "total_nonfarm_payroll                       0.277711       0.101281   \n",
       "inflation_CPI                              -0.229364       0.664758   \n",
       "Real_personal_consumption                   1.000000       0.024818   \n",
       "treasury_rate                               0.024818       1.000000   \n",
       "personal_savings_rate                       0.111853       0.438219   \n",
       "real_gdp_growth                             0.510963       0.046450   \n",
       "real_profits                                0.171377      -0.164132   \n",
       "trueac                                      0.014398      -0.009205   \n",
       "treasac                                     0.012113      -0.012672   \n",
       "CAPEinverse                                -0.099521       0.799332   \n",
       "\n",
       "                           personal_savings_rate  real_gdp_growth  \\\n",
       "perdiv                                  0.727077        -0.051837   \n",
       "totret                                 -0.000840        -0.002268   \n",
       "FEDFUNDS                                0.459517         0.042275   \n",
       "unemployment_rate                       0.140202        -0.319049   \n",
       "total_nonfarm_payroll                   0.244964         0.781638   \n",
       "inflation_CPI                           0.486377        -0.191697   \n",
       "Real_personal_consumption               0.111853         0.510963   \n",
       "treasury_rate                           0.438219         0.046450   \n",
       "personal_savings_rate                   1.000000         0.138207   \n",
       "real_gdp_growth                         0.138207         1.000000   \n",
       "real_profits                           -0.094376         0.402946   \n",
       "trueac                                 -0.005190        -0.000553   \n",
       "treasac                                -0.004965        -0.002705   \n",
       "CAPEinverse                             0.590508        -0.135765   \n",
       "\n",
       "                           real_profits    trueac   treasac  CAPEinverse  \n",
       "perdiv                        -0.191974 -0.006087 -0.006984     0.944953  \n",
       "totret                         0.000343  0.999960  0.999956     0.001069  \n",
       "FEDFUNDS                      -0.238513 -0.013543 -0.015266     0.716393  \n",
       "unemployment_rate              0.030023  0.011457  0.009792     0.562701  \n",
       "total_nonfarm_payroll          0.147831 -0.008631 -0.008962    -0.013250  \n",
       "inflation_CPI                 -0.221602 -0.017580 -0.014892     0.729407  \n",
       "Real_personal_consumption      0.171377  0.014398  0.012113    -0.099521  \n",
       "treasury_rate                 -0.164132 -0.009205 -0.012672     0.799332  \n",
       "personal_savings_rate         -0.094376 -0.005190 -0.004965     0.590508  \n",
       "real_gdp_growth                0.402946 -0.000553 -0.002705    -0.135765  \n",
       "real_profits                   1.000000  0.002325  0.001888    -0.177425  \n",
       "trueac                         0.002325  1.000000  0.999972    -0.005455  \n",
       "treasac                        0.001888  0.999972  1.000000    -0.006455  \n",
       "CAPEinverse                   -0.177425 -0.005455 -0.006455     1.000000  "
      ]
     },
     "execution_count": 77,
     "metadata": {},
     "output_type": "execute_result"
    }
   ],
   "source": [
    "alldata.corr()"
   ]
  },
  {
   "cell_type": "markdown",
   "metadata": {
    "colab_type": "text",
    "id": "OAcN9WOlmcVP"
   },
   "source": [
    "Now back to smoothing."
   ]
  },
  {
   "cell_type": "markdown",
   "metadata": {
    "colab_type": "text",
    "id": "pwMEad84mcVQ"
   },
   "source": [
    "First, a little cleanup."
   ]
  },
  {
   "cell_type": "code",
   "execution_count": 78,
   "metadata": {
    "colab": {},
    "colab_type": "code",
    "id": "PkYkPHzfmcVQ"
   },
   "outputs": [],
   "source": [
    "outputs = alldata[['treasac']]"
   ]
  },
  {
   "cell_type": "code",
   "execution_count": 79,
   "metadata": {
    "colab": {},
    "colab_type": "code",
    "id": "bikFasoWmcVR"
   },
   "outputs": [],
   "source": [
    "inputs = alldata.drop(['treasac', 'totret', 'trueac'], axis=1)"
   ]
  },
  {
   "cell_type": "code",
   "execution_count": 80,
   "metadata": {
    "colab": {
     "base_uri": "https://localhost:8080/",
     "height": 139
    },
    "colab_type": "code",
    "id": "GXDhBsUNmcVS",
    "outputId": "6399f70e-6ed1-45df-8cc0-9fe5d710a1bb"
   },
   "outputs": [
    {
     "name": "stderr",
     "output_type": "stream",
     "text": [
      "/opt/anaconda3/lib/python3.7/site-packages/ipykernel_launcher.py:1: SettingWithCopyWarning: \n",
      "A value is trying to be set on a copy of a slice from a DataFrame.\n",
      "Try using .loc[row_indexer,col_indexer] = value instead\n",
      "\n",
      "See the caveats in the documentation: http://pandas.pydata.org/pandas-docs/stable/user_guide/indexing.html#returning-a-view-versus-a-copy\n",
      "  \"\"\"Entry point for launching an IPython kernel.\n"
     ]
    }
   ],
   "source": [
    "outputs['smoothed']=outputs.treasac.ewm(90).mean()"
   ]
  },
  {
   "cell_type": "code",
   "execution_count": 81,
   "metadata": {
    "colab": {
     "base_uri": "https://localhost:8080/",
     "height": 472
    },
    "colab_type": "code",
    "id": "uhMEok_BmcVT",
    "outputId": "a2de024f-5932-4a8e-d61f-a6ee7a91a3bf"
   },
   "outputs": [
    {
     "data": {
      "text/html": [
       "<div>\n",
       "<style scoped>\n",
       "    .dataframe tbody tr th:only-of-type {\n",
       "        vertical-align: middle;\n",
       "    }\n",
       "\n",
       "    .dataframe tbody tr th {\n",
       "        vertical-align: top;\n",
       "    }\n",
       "\n",
       "    .dataframe thead th {\n",
       "        text-align: right;\n",
       "    }\n",
       "</style>\n",
       "<table border=\"1\" class=\"dataframe\">\n",
       "  <thead>\n",
       "    <tr style=\"text-align: right;\">\n",
       "      <th></th>\n",
       "      <th>perdiv</th>\n",
       "      <th>FEDFUNDS</th>\n",
       "      <th>unemployment_rate</th>\n",
       "      <th>total_nonfarm_payroll</th>\n",
       "      <th>inflation_CPI</th>\n",
       "      <th>Real_personal_consumption</th>\n",
       "      <th>treasury_rate</th>\n",
       "      <th>personal_savings_rate</th>\n",
       "      <th>real_gdp_growth</th>\n",
       "      <th>real_profits</th>\n",
       "      <th>CAPEinverse</th>\n",
       "      <th>treasac</th>\n",
       "      <th>smoothed</th>\n",
       "    </tr>\n",
       "  </thead>\n",
       "  <tbody>\n",
       "    <tr>\n",
       "      <th>perdiv</th>\n",
       "      <td>1.000000</td>\n",
       "      <td>0.721524</td>\n",
       "      <td>0.397601</td>\n",
       "      <td>0.119500</td>\n",
       "      <td>0.706686</td>\n",
       "      <td>-0.058496</td>\n",
       "      <td>0.766902</td>\n",
       "      <td>0.727077</td>\n",
       "      <td>-0.051837</td>\n",
       "      <td>-0.191974</td>\n",
       "      <td>0.944953</td>\n",
       "      <td>-0.006984</td>\n",
       "      <td>-0.216283</td>\n",
       "    </tr>\n",
       "    <tr>\n",
       "      <th>FEDFUNDS</th>\n",
       "      <td>0.721524</td>\n",
       "      <td>1.000000</td>\n",
       "      <td>0.064552</td>\n",
       "      <td>0.220578</td>\n",
       "      <td>0.756189</td>\n",
       "      <td>-0.064496</td>\n",
       "      <td>0.901599</td>\n",
       "      <td>0.459517</td>\n",
       "      <td>0.042275</td>\n",
       "      <td>-0.238513</td>\n",
       "      <td>0.716393</td>\n",
       "      <td>-0.015266</td>\n",
       "      <td>-0.145244</td>\n",
       "    </tr>\n",
       "    <tr>\n",
       "      <th>unemployment_rate</th>\n",
       "      <td>0.397601</td>\n",
       "      <td>0.064552</td>\n",
       "      <td>1.000000</td>\n",
       "      <td>-0.484501</td>\n",
       "      <td>0.151262</td>\n",
       "      <td>-0.092313</td>\n",
       "      <td>0.320710</td>\n",
       "      <td>0.140202</td>\n",
       "      <td>-0.319049</td>\n",
       "      <td>0.030023</td>\n",
       "      <td>0.562701</td>\n",
       "      <td>0.009792</td>\n",
       "      <td>0.065619</td>\n",
       "    </tr>\n",
       "    <tr>\n",
       "      <th>total_nonfarm_payroll</th>\n",
       "      <td>0.119500</td>\n",
       "      <td>0.220578</td>\n",
       "      <td>-0.484501</td>\n",
       "      <td>1.000000</td>\n",
       "      <td>0.069562</td>\n",
       "      <td>0.277711</td>\n",
       "      <td>0.101281</td>\n",
       "      <td>0.244964</td>\n",
       "      <td>0.781638</td>\n",
       "      <td>0.147831</td>\n",
       "      <td>-0.013250</td>\n",
       "      <td>-0.008962</td>\n",
       "      <td>-0.028986</td>\n",
       "    </tr>\n",
       "    <tr>\n",
       "      <th>inflation_CPI</th>\n",
       "      <td>0.706686</td>\n",
       "      <td>0.756189</td>\n",
       "      <td>0.151262</td>\n",
       "      <td>0.069562</td>\n",
       "      <td>1.000000</td>\n",
       "      <td>-0.229364</td>\n",
       "      <td>0.664758</td>\n",
       "      <td>0.486377</td>\n",
       "      <td>-0.191697</td>\n",
       "      <td>-0.221602</td>\n",
       "      <td>0.729407</td>\n",
       "      <td>-0.014892</td>\n",
       "      <td>-0.176693</td>\n",
       "    </tr>\n",
       "    <tr>\n",
       "      <th>Real_personal_consumption</th>\n",
       "      <td>-0.058496</td>\n",
       "      <td>-0.064496</td>\n",
       "      <td>-0.092313</td>\n",
       "      <td>0.277711</td>\n",
       "      <td>-0.229364</td>\n",
       "      <td>1.000000</td>\n",
       "      <td>0.024818</td>\n",
       "      <td>0.111853</td>\n",
       "      <td>0.510963</td>\n",
       "      <td>0.171377</td>\n",
       "      <td>-0.099521</td>\n",
       "      <td>0.012113</td>\n",
       "      <td>0.286910</td>\n",
       "    </tr>\n",
       "    <tr>\n",
       "      <th>treasury_rate</th>\n",
       "      <td>0.766902</td>\n",
       "      <td>0.901599</td>\n",
       "      <td>0.320710</td>\n",
       "      <td>0.101281</td>\n",
       "      <td>0.664758</td>\n",
       "      <td>0.024818</td>\n",
       "      <td>1.000000</td>\n",
       "      <td>0.438219</td>\n",
       "      <td>0.046450</td>\n",
       "      <td>-0.164132</td>\n",
       "      <td>0.799332</td>\n",
       "      <td>-0.012672</td>\n",
       "      <td>-0.103875</td>\n",
       "    </tr>\n",
       "    <tr>\n",
       "      <th>personal_savings_rate</th>\n",
       "      <td>0.727077</td>\n",
       "      <td>0.459517</td>\n",
       "      <td>0.140202</td>\n",
       "      <td>0.244964</td>\n",
       "      <td>0.486377</td>\n",
       "      <td>0.111853</td>\n",
       "      <td>0.438219</td>\n",
       "      <td>1.000000</td>\n",
       "      <td>0.138207</td>\n",
       "      <td>-0.094376</td>\n",
       "      <td>0.590508</td>\n",
       "      <td>-0.004965</td>\n",
       "      <td>-0.120022</td>\n",
       "    </tr>\n",
       "    <tr>\n",
       "      <th>real_gdp_growth</th>\n",
       "      <td>-0.051837</td>\n",
       "      <td>0.042275</td>\n",
       "      <td>-0.319049</td>\n",
       "      <td>0.781638</td>\n",
       "      <td>-0.191697</td>\n",
       "      <td>0.510963</td>\n",
       "      <td>0.046450</td>\n",
       "      <td>0.138207</td>\n",
       "      <td>1.000000</td>\n",
       "      <td>0.402946</td>\n",
       "      <td>-0.135765</td>\n",
       "      <td>-0.002705</td>\n",
       "      <td>0.094472</td>\n",
       "    </tr>\n",
       "    <tr>\n",
       "      <th>real_profits</th>\n",
       "      <td>-0.191974</td>\n",
       "      <td>-0.238513</td>\n",
       "      <td>0.030023</td>\n",
       "      <td>0.147831</td>\n",
       "      <td>-0.221602</td>\n",
       "      <td>0.171377</td>\n",
       "      <td>-0.164132</td>\n",
       "      <td>-0.094376</td>\n",
       "      <td>0.402946</td>\n",
       "      <td>1.000000</td>\n",
       "      <td>-0.177425</td>\n",
       "      <td>0.001888</td>\n",
       "      <td>0.081905</td>\n",
       "    </tr>\n",
       "    <tr>\n",
       "      <th>CAPEinverse</th>\n",
       "      <td>0.944953</td>\n",
       "      <td>0.716393</td>\n",
       "      <td>0.562701</td>\n",
       "      <td>-0.013250</td>\n",
       "      <td>0.729407</td>\n",
       "      <td>-0.099521</td>\n",
       "      <td>0.799332</td>\n",
       "      <td>0.590508</td>\n",
       "      <td>-0.135765</td>\n",
       "      <td>-0.177425</td>\n",
       "      <td>1.000000</td>\n",
       "      <td>-0.006455</td>\n",
       "      <td>-0.190379</td>\n",
       "    </tr>\n",
       "    <tr>\n",
       "      <th>treasac</th>\n",
       "      <td>-0.006984</td>\n",
       "      <td>-0.015266</td>\n",
       "      <td>0.009792</td>\n",
       "      <td>-0.008962</td>\n",
       "      <td>-0.014892</td>\n",
       "      <td>0.012113</td>\n",
       "      <td>-0.012672</td>\n",
       "      <td>-0.004965</td>\n",
       "      <td>-0.002705</td>\n",
       "      <td>0.001888</td>\n",
       "      <td>-0.006455</td>\n",
       "      <td>1.000000</td>\n",
       "      <td>0.146973</td>\n",
       "    </tr>\n",
       "    <tr>\n",
       "      <th>smoothed</th>\n",
       "      <td>-0.216283</td>\n",
       "      <td>-0.145244</td>\n",
       "      <td>0.065619</td>\n",
       "      <td>-0.028986</td>\n",
       "      <td>-0.176693</td>\n",
       "      <td>0.286910</td>\n",
       "      <td>-0.103875</td>\n",
       "      <td>-0.120022</td>\n",
       "      <td>0.094472</td>\n",
       "      <td>0.081905</td>\n",
       "      <td>-0.190379</td>\n",
       "      <td>0.146973</td>\n",
       "      <td>1.000000</td>\n",
       "    </tr>\n",
       "  </tbody>\n",
       "</table>\n",
       "</div>"
      ],
      "text/plain": [
       "                             perdiv  FEDFUNDS  unemployment_rate  \\\n",
       "perdiv                     1.000000  0.721524           0.397601   \n",
       "FEDFUNDS                   0.721524  1.000000           0.064552   \n",
       "unemployment_rate          0.397601  0.064552           1.000000   \n",
       "total_nonfarm_payroll      0.119500  0.220578          -0.484501   \n",
       "inflation_CPI              0.706686  0.756189           0.151262   \n",
       "Real_personal_consumption -0.058496 -0.064496          -0.092313   \n",
       "treasury_rate              0.766902  0.901599           0.320710   \n",
       "personal_savings_rate      0.727077  0.459517           0.140202   \n",
       "real_gdp_growth           -0.051837  0.042275          -0.319049   \n",
       "real_profits              -0.191974 -0.238513           0.030023   \n",
       "CAPEinverse                0.944953  0.716393           0.562701   \n",
       "treasac                   -0.006984 -0.015266           0.009792   \n",
       "smoothed                  -0.216283 -0.145244           0.065619   \n",
       "\n",
       "                           total_nonfarm_payroll  inflation_CPI  \\\n",
       "perdiv                                  0.119500       0.706686   \n",
       "FEDFUNDS                                0.220578       0.756189   \n",
       "unemployment_rate                      -0.484501       0.151262   \n",
       "total_nonfarm_payroll                   1.000000       0.069562   \n",
       "inflation_CPI                           0.069562       1.000000   \n",
       "Real_personal_consumption               0.277711      -0.229364   \n",
       "treasury_rate                           0.101281       0.664758   \n",
       "personal_savings_rate                   0.244964       0.486377   \n",
       "real_gdp_growth                         0.781638      -0.191697   \n",
       "real_profits                            0.147831      -0.221602   \n",
       "CAPEinverse                            -0.013250       0.729407   \n",
       "treasac                                -0.008962      -0.014892   \n",
       "smoothed                               -0.028986      -0.176693   \n",
       "\n",
       "                           Real_personal_consumption  treasury_rate  \\\n",
       "perdiv                                     -0.058496       0.766902   \n",
       "FEDFUNDS                                   -0.064496       0.901599   \n",
       "unemployment_rate                          -0.092313       0.320710   \n",
       "total_nonfarm_payroll                       0.277711       0.101281   \n",
       "inflation_CPI                              -0.229364       0.664758   \n",
       "Real_personal_consumption                   1.000000       0.024818   \n",
       "treasury_rate                               0.024818       1.000000   \n",
       "personal_savings_rate                       0.111853       0.438219   \n",
       "real_gdp_growth                             0.510963       0.046450   \n",
       "real_profits                                0.171377      -0.164132   \n",
       "CAPEinverse                                -0.099521       0.799332   \n",
       "treasac                                     0.012113      -0.012672   \n",
       "smoothed                                    0.286910      -0.103875   \n",
       "\n",
       "                           personal_savings_rate  real_gdp_growth  \\\n",
       "perdiv                                  0.727077        -0.051837   \n",
       "FEDFUNDS                                0.459517         0.042275   \n",
       "unemployment_rate                       0.140202        -0.319049   \n",
       "total_nonfarm_payroll                   0.244964         0.781638   \n",
       "inflation_CPI                           0.486377        -0.191697   \n",
       "Real_personal_consumption               0.111853         0.510963   \n",
       "treasury_rate                           0.438219         0.046450   \n",
       "personal_savings_rate                   1.000000         0.138207   \n",
       "real_gdp_growth                         0.138207         1.000000   \n",
       "real_profits                           -0.094376         0.402946   \n",
       "CAPEinverse                             0.590508        -0.135765   \n",
       "treasac                                -0.004965        -0.002705   \n",
       "smoothed                               -0.120022         0.094472   \n",
       "\n",
       "                           real_profits  CAPEinverse   treasac  smoothed  \n",
       "perdiv                        -0.191974     0.944953 -0.006984 -0.216283  \n",
       "FEDFUNDS                      -0.238513     0.716393 -0.015266 -0.145244  \n",
       "unemployment_rate              0.030023     0.562701  0.009792  0.065619  \n",
       "total_nonfarm_payroll          0.147831    -0.013250 -0.008962 -0.028986  \n",
       "inflation_CPI                 -0.221602     0.729407 -0.014892 -0.176693  \n",
       "Real_personal_consumption      0.171377    -0.099521  0.012113  0.286910  \n",
       "treasury_rate                 -0.164132     0.799332 -0.012672 -0.103875  \n",
       "personal_savings_rate         -0.094376     0.590508 -0.004965 -0.120022  \n",
       "real_gdp_growth                0.402946    -0.135765 -0.002705  0.094472  \n",
       "real_profits                   1.000000    -0.177425  0.001888  0.081905  \n",
       "CAPEinverse                   -0.177425     1.000000 -0.006455 -0.190379  \n",
       "treasac                        0.001888    -0.006455  1.000000  0.146973  \n",
       "smoothed                       0.081905    -0.190379  0.146973  1.000000  "
      ]
     },
     "execution_count": 81,
     "metadata": {},
     "output_type": "execute_result"
    }
   ],
   "source": [
    "pd.concat([inputs, outputs], axis=1).corr()"
   ]
  },
  {
   "cell_type": "markdown",
   "metadata": {
    "colab_type": "text",
    "id": "aQzw-wbmmcVU"
   },
   "source": [
    "We see that smoothing has, indeed, removed a lot of random noies, and so the correlation between the smoothed returns and the inputs are quite visible (and the correlation of the **'treasac'** and **'smoothed'** columns tells us that we have removed around 6/7 of the noise (or, at least, we hope it's noise)."
   ]
  },
  {
   "cell_type": "markdown",
   "metadata": {
    "colab_type": "text",
    "id": "vWd10-1omcVU"
   },
   "source": [
    "For our next act, we will see if the macroeconomic inputs predict the outputs. Before we can run a regression, we should make sure that the inputs are scaled properly."
   ]
  },
  {
   "cell_type": "code",
   "execution_count": 82,
   "metadata": {
    "colab": {},
    "colab_type": "code",
    "id": "8ZhVuxosmcVU"
   },
   "outputs": [],
   "source": [
    "mms = MinMaxScaler()"
   ]
  },
  {
   "cell_type": "code",
   "execution_count": 83,
   "metadata": {
    "colab": {},
    "colab_type": "code",
    "id": "RrW6t2r3mcVV"
   },
   "outputs": [],
   "source": [
    "scaled_inputs = mms.fit_transform(inputs)"
   ]
  },
  {
   "cell_type": "code",
   "execution_count": 84,
   "metadata": {
    "colab": {},
    "colab_type": "code",
    "id": "_fzeAgummcVX"
   },
   "outputs": [],
   "source": [
    "newreg = sklearn.linear_model.LinearRegression()"
   ]
  },
  {
   "cell_type": "code",
   "execution_count": 85,
   "metadata": {
    "colab": {
     "base_uri": "https://localhost:8080/",
     "height": 34
    },
    "colab_type": "code",
    "id": "RlzN8OXxmcVY",
    "outputId": "7c6faa4b-c5ba-4adc-9a35-fbca98845fdd"
   },
   "outputs": [
    {
     "data": {
      "text/plain": [
       "LinearRegression(copy_X=True, fit_intercept=True, n_jobs=None, normalize=False)"
      ]
     },
     "execution_count": 85,
     "metadata": {},
     "output_type": "execute_result"
    }
   ],
   "source": [
    "newreg.fit(scaled_inputs, outputs['smoothed'])"
   ]
  },
  {
   "cell_type": "code",
   "execution_count": 86,
   "metadata": {
    "colab": {
     "base_uri": "https://localhost:8080/",
     "height": 68
    },
    "colab_type": "code",
    "id": "bF_p2iohmcVa",
    "outputId": "a940bec2-d808-497e-c503-18ef85d8593e"
   },
   "outputs": [
    {
     "data": {
      "text/plain": [
       "array([-0.08583074,  0.27456237,  0.49232369,  0.12745874,  0.17039555,\n",
       "        0.55131514, -0.04334291,  0.02477376, -0.06910367, -0.04750754,\n",
       "       -0.65733087])"
      ]
     },
     "execution_count": 86,
     "metadata": {},
     "output_type": "execute_result"
    }
   ],
   "source": [
    "newreg.coef_ *365"
   ]
  },
  {
   "cell_type": "markdown",
   "metadata": {
    "colab_type": "text",
    "id": "5R56WTzWmcVb"
   },
   "source": [
    "We multiplied the regression coefficients by 365 to regress the annualized (log) return. The astute reader will note that out of the 11 coefficients, six are much larger than the others in absolute values. These are: Fed Funds, unemployment rate, total nonfarm payrolls, inflation, real personal consumption, and (Shiller-smoothed) earnings/price ratio. The fact that *high* CAPE is positively correlated with returns is surprising, and tells us that there is a strong momentum component in stock prices."
   ]
  },
  {
   "cell_type": "code",
   "execution_count": 87,
   "metadata": {
    "colab": {
     "base_uri": "https://localhost:8080/",
     "height": 34
    },
    "colab_type": "code",
    "id": "_Z8rQDykmcVb",
    "outputId": "01a87150-0eea-4249-f8e6-471f42aab5d1"
   },
   "outputs": [
    {
     "data": {
      "text/plain": [
       "0.4348578152319749"
      ]
     },
     "execution_count": 87,
     "metadata": {},
     "output_type": "execute_result"
    }
   ],
   "source": [
    "np.sqrt(newreg.score(scaled_inputs, outputs['smoothed']))"
   ]
  },
  {
   "cell_type": "markdown",
   "metadata": {
    "colab_type": "text",
    "id": "BYumPGBomcVc"
   },
   "source": [
    "We seem to be explaining about 18% of the variance, but in a quest for robustness, let us drop the less weighty columns."
   ]
  },
  {
   "cell_type": "code",
   "execution_count": 88,
   "metadata": {
    "colab": {},
    "colab_type": "code",
    "id": "MrrzL3kLmcVc"
   },
   "outputs": [],
   "source": [
    "min_inputs = inputs[['FEDFUNDS', 'unemployment_rate', 'total_nonfarm_payroll', 'inflation_CPI', 'Real_personal_consumption','CAPEinverse']]"
   ]
  },
  {
   "cell_type": "code",
   "execution_count": 89,
   "metadata": {
    "colab": {},
    "colab_type": "code",
    "id": "4jVsjnFkmcVd"
   },
   "outputs": [],
   "source": [
    "mms2 = MinMaxScaler()"
   ]
  },
  {
   "cell_type": "code",
   "execution_count": 90,
   "metadata": {
    "colab": {},
    "colab_type": "code",
    "id": "e9ZYl62hmcVe"
   },
   "outputs": [],
   "source": [
    "scaled_min = mms2.fit_transform(min_inputs)"
   ]
  },
  {
   "cell_type": "code",
   "execution_count": 91,
   "metadata": {
    "colab": {},
    "colab_type": "code",
    "id": "M138ydTpmcVf"
   },
   "outputs": [],
   "source": [
    "minreg = sklearn.linear_model.LinearRegression()"
   ]
  },
  {
   "cell_type": "code",
   "execution_count": 92,
   "metadata": {
    "colab": {
     "base_uri": "https://localhost:8080/",
     "height": 34
    },
    "colab_type": "code",
    "id": "6UgTSInmmcVf",
    "outputId": "9c5bd906-3eec-4230-8dc6-310d904e670d"
   },
   "outputs": [
    {
     "data": {
      "text/plain": [
       "LinearRegression(copy_X=True, fit_intercept=True, n_jobs=None, normalize=False)"
      ]
     },
     "execution_count": 92,
     "metadata": {},
     "output_type": "execute_result"
    }
   ],
   "source": [
    "minreg.fit(scaled_min, outputs['smoothed'])"
   ]
  },
  {
   "cell_type": "code",
   "execution_count": 93,
   "metadata": {
    "colab": {
     "base_uri": "https://localhost:8080/",
     "height": 51
    },
    "colab_type": "code",
    "id": "8rRDDFyVmcVg",
    "outputId": "75749ddc-0ed9-4821-e217-9483b923dd8f"
   },
   "outputs": [
    {
     "data": {
      "text/plain": [
       "array([ 0.22894857,  0.47873209,  0.06294529,  0.19606634,  0.52241213,\n",
       "       -0.7323782 ])"
      ]
     },
     "execution_count": 93,
     "metadata": {},
     "output_type": "execute_result"
    }
   ],
   "source": [
    "minreg.coef_ * 365"
   ]
  },
  {
   "cell_type": "code",
   "execution_count": 94,
   "metadata": {
    "colab": {
     "base_uri": "https://localhost:8080/",
     "height": 34
    },
    "colab_type": "code",
    "id": "RQL_FFZ9mcVh",
    "outputId": "26441216-cc58-4f3a-b672-a6714e5abb6a"
   },
   "outputs": [
    {
     "data": {
      "text/plain": [
       "0.4325210780539163"
      ]
     },
     "execution_count": 94,
     "metadata": {},
     "output_type": "execute_result"
    }
   ],
   "source": [
    "np.sqrt(minreg.score(scaled_min, outputs['smoothed']))"
   ]
  },
  {
   "cell_type": "markdown",
   "metadata": {
    "colab_type": "text",
    "id": "LT1ibY9-mcVh"
   },
   "source": [
    "We see that there is very little degradation in performance, while the number of predictor variables is half. Success! Let's see if we can push this further, and leave only the three biggest regression coefficients:"
   ]
  },
  {
   "cell_type": "code",
   "execution_count": 95,
   "metadata": {
    "colab": {},
    "colab_type": "code",
    "id": "By0gX0_pmcVi"
   },
   "outputs": [],
   "source": [
    "super_min_inputs = inputs[[ 'unemployment_rate',  'Real_personal_consumption','CAPEinverse']]"
   ]
  },
  {
   "cell_type": "code",
   "execution_count": 96,
   "metadata": {
    "colab": {},
    "colab_type": "code",
    "id": "qCXLtAWDGhK2"
   },
   "outputs": [],
   "source": [
    "ss_min_inputs = inputs[['Real_personal_consumption']]"
   ]
  },
  {
   "cell_type": "code",
   "execution_count": 97,
   "metadata": {
    "colab": {},
    "colab_type": "code",
    "id": "2Doh9WIjmcVj"
   },
   "outputs": [],
   "source": [
    "mms3 = MinMaxScaler()"
   ]
  },
  {
   "cell_type": "code",
   "execution_count": 98,
   "metadata": {
    "colab": {},
    "colab_type": "code",
    "id": "zBsiiCkMGqRu"
   },
   "outputs": [],
   "source": [
    "mms4 = MinMaxScaler()"
   ]
  },
  {
   "cell_type": "code",
   "execution_count": 99,
   "metadata": {
    "colab": {},
    "colab_type": "code",
    "id": "FotLEqMWmcVj"
   },
   "outputs": [],
   "source": [
    "scaled_super_min = mms3.fit_transform(super_min_inputs)"
   ]
  },
  {
   "cell_type": "code",
   "execution_count": 100,
   "metadata": {
    "colab": {},
    "colab_type": "code",
    "id": "tkhu92FWGvGk"
   },
   "outputs": [],
   "source": [
    "scaled_ss_min = mms4.fit_transform(ss_min_inputs)"
   ]
  },
  {
   "cell_type": "code",
   "execution_count": 101,
   "metadata": {
    "colab": {},
    "colab_type": "code",
    "id": "HpxoX1jxmcVk"
   },
   "outputs": [],
   "source": [
    "sminreg = sklearn.linear_model.LinearRegression()"
   ]
  },
  {
   "cell_type": "code",
   "execution_count": 102,
   "metadata": {
    "colab": {},
    "colab_type": "code",
    "id": "cr9zUu9xG8NM"
   },
   "outputs": [],
   "source": [
    "ssminreg = sklearn.linear_model.LinearRegression()"
   ]
  },
  {
   "cell_type": "code",
   "execution_count": 103,
   "metadata": {
    "colab": {
     "base_uri": "https://localhost:8080/",
     "height": 34
    },
    "colab_type": "code",
    "id": "ptS2E0mEmcVm",
    "outputId": "5cc29a60-500c-4815-96dc-265217f15df6"
   },
   "outputs": [
    {
     "data": {
      "text/plain": [
       "LinearRegression(copy_X=True, fit_intercept=True, n_jobs=None, normalize=False)"
      ]
     },
     "execution_count": 103,
     "metadata": {},
     "output_type": "execute_result"
    }
   ],
   "source": [
    "sminreg.fit(scaled_super_min, outputs['smoothed'])"
   ]
  },
  {
   "cell_type": "code",
   "execution_count": 104,
   "metadata": {
    "colab": {
     "base_uri": "https://localhost:8080/",
     "height": 34
    },
    "colab_type": "code",
    "id": "Q9CqPbHQmcVn",
    "outputId": "322e895e-c378-4d58-c146-59168e8d862e"
   },
   "outputs": [
    {
     "data": {
      "text/plain": [
       "array([ 0.27596237,  0.48868009, -0.33427232])"
      ]
     },
     "execution_count": 104,
     "metadata": {},
     "output_type": "execute_result"
    }
   ],
   "source": [
    "sminreg.coef_*365"
   ]
  },
  {
   "cell_type": "code",
   "execution_count": 105,
   "metadata": {
    "colab": {
     "base_uri": "https://localhost:8080/",
     "height": 34
    },
    "colab_type": "code",
    "id": "HRscWRcTmcVo",
    "outputId": "6b65afec-e130-4498-80dc-f9fce46e0c74"
   },
   "outputs": [
    {
     "data": {
      "text/plain": [
       "0.3970384480926688"
      ]
     },
     "execution_count": 105,
     "metadata": {},
     "output_type": "execute_result"
    }
   ],
   "source": [
    "np.sqrt(sminreg.score(scaled_super_min, outputs['smoothed']))"
   ]
  },
  {
   "cell_type": "code",
   "execution_count": 106,
   "metadata": {
    "colab": {
     "base_uri": "https://localhost:8080/",
     "height": 34
    },
    "colab_type": "code",
    "id": "T4JeXYYkHFId",
    "outputId": "2b7f8ba7-985a-4697-db59-7f174f11a964"
   },
   "outputs": [
    {
     "data": {
      "text/plain": [
       "LinearRegression(copy_X=True, fit_intercept=True, n_jobs=None, normalize=False)"
      ]
     },
     "execution_count": 106,
     "metadata": {},
     "output_type": "execute_result"
    }
   ],
   "source": [
    "ssminreg.fit(scaled_ss_min, outputs['smoothed'] )"
   ]
  },
  {
   "cell_type": "code",
   "execution_count": 107,
   "metadata": {
    "colab": {
     "base_uri": "https://localhost:8080/",
     "height": 34
    },
    "colab_type": "code",
    "id": "tj5UItIOHaP0",
    "outputId": "9f6e8600-95d8-4d31-b454-57146f2c16a0"
   },
   "outputs": [
    {
     "data": {
      "text/plain": [
       "array([0.49991606])"
      ]
     },
     "execution_count": 107,
     "metadata": {},
     "output_type": "execute_result"
    }
   ],
   "source": [
    "ssminreg.coef_*365"
   ]
  },
  {
   "cell_type": "code",
   "execution_count": 108,
   "metadata": {
    "colab": {
     "base_uri": "https://localhost:8080/",
     "height": 34
    },
    "colab_type": "code",
    "id": "_Ce7DCC1HkiR",
    "outputId": "764a6962-4adf-4f2b-8acd-8f1b653fdd2d"
   },
   "outputs": [
    {
     "data": {
      "text/plain": [
       "0.2869101777493592"
      ]
     },
     "execution_count": 108,
     "metadata": {},
     "output_type": "execute_result"
    }
   ],
   "source": [
    "np.sqrt(ssminreg.score(scaled_ss_min, outputs['smoothed']))"
   ]
  },
  {
   "cell_type": "markdown",
   "metadata": {
    "colab_type": "text",
    "id": "tDKeYs1hmcVp"
   },
   "source": [
    "We see that the correlation is slightly lower, but the much greater simplicity may well make the model far more robust. Let us see how this model performs."
   ]
  },
  {
   "cell_type": "code",
   "execution_count": 109,
   "metadata": {
    "colab": {},
    "colab_type": "code",
    "id": "0CmdoduDmcVp"
   },
   "outputs": [],
   "source": [
    "preds = sminreg.predict(scaled_super_min)"
   ]
  },
  {
   "cell_type": "code",
   "execution_count": 110,
   "metadata": {
    "colab": {},
    "colab_type": "code",
    "id": "UyjnPikQ77ZC"
   },
   "outputs": [],
   "source": [
    "spreds = ssminreg.predict(scaled_ss_min)"
   ]
  },
  {
   "cell_type": "code",
   "execution_count": 111,
   "metadata": {
    "colab": {},
    "colab_type": "code",
    "id": "o8b5zk4TmcVq"
   },
   "outputs": [],
   "source": [
    "testdf = pd.concat([outputs[['treasac']], pd.DataFrame(preds, index=outputs.index)], axis=1)"
   ]
  },
  {
   "cell_type": "code",
   "execution_count": 112,
   "metadata": {
    "colab": {},
    "colab_type": "code",
    "id": "3tDOCtB38MSX"
   },
   "outputs": [],
   "source": [
    "stestdf = pd.concat([outputs[['treasac']], pd.DataFrame(spreds, index=outputs.index)], axis=1)"
   ]
  },
  {
   "cell_type": "code",
   "execution_count": 113,
   "metadata": {
    "colab": {},
    "colab_type": "code",
    "id": "X0zLMJKEmcVq"
   },
   "outputs": [],
   "source": [
    "testdf.columns = ['treasac', 'preds']"
   ]
  },
  {
   "cell_type": "code",
   "execution_count": 114,
   "metadata": {
    "colab": {
     "base_uri": "https://localhost:8080/",
     "height": 297
    },
    "colab_type": "code",
    "id": "2crPgMKemcVr",
    "outputId": "ce17a678-f584-4f3f-dfad-fa475acae501"
   },
   "outputs": [
    {
     "data": {
      "text/html": [
       "<div>\n",
       "<style scoped>\n",
       "    .dataframe tbody tr th:only-of-type {\n",
       "        vertical-align: middle;\n",
       "    }\n",
       "\n",
       "    .dataframe tbody tr th {\n",
       "        vertical-align: top;\n",
       "    }\n",
       "\n",
       "    .dataframe thead th {\n",
       "        text-align: right;\n",
       "    }\n",
       "</style>\n",
       "<table border=\"1\" class=\"dataframe\">\n",
       "  <thead>\n",
       "    <tr style=\"text-align: right;\">\n",
       "      <th></th>\n",
       "      <th>treasac</th>\n",
       "      <th>preds</th>\n",
       "    </tr>\n",
       "  </thead>\n",
       "  <tbody>\n",
       "    <tr>\n",
       "      <th>count</th>\n",
       "      <td>20329.000000</td>\n",
       "      <td>20329.000000</td>\n",
       "    </tr>\n",
       "    <tr>\n",
       "      <th>mean</th>\n",
       "      <td>0.041693</td>\n",
       "      <td>0.038313</td>\n",
       "    </tr>\n",
       "    <tr>\n",
       "      <th>std</th>\n",
       "      <td>3.078121</td>\n",
       "      <td>0.090190</td>\n",
       "    </tr>\n",
       "    <tr>\n",
       "      <th>min</th>\n",
       "      <td>-74.778625</td>\n",
       "      <td>-0.394483</td>\n",
       "    </tr>\n",
       "    <tr>\n",
       "      <th>25%</th>\n",
       "      <td>-0.774367</td>\n",
       "      <td>-0.010124</td>\n",
       "    </tr>\n",
       "    <tr>\n",
       "      <th>50%</th>\n",
       "      <td>-0.028735</td>\n",
       "      <td>0.051694</td>\n",
       "    </tr>\n",
       "    <tr>\n",
       "      <th>75%</th>\n",
       "      <td>1.032812</td>\n",
       "      <td>0.097869</td>\n",
       "    </tr>\n",
       "    <tr>\n",
       "      <th>max</th>\n",
       "      <td>39.364678</td>\n",
       "      <td>0.216782</td>\n",
       "    </tr>\n",
       "  </tbody>\n",
       "</table>\n",
       "</div>"
      ],
      "text/plain": [
       "            treasac         preds\n",
       "count  20329.000000  20329.000000\n",
       "mean       0.041693      0.038313\n",
       "std        3.078121      0.090190\n",
       "min      -74.778625     -0.394483\n",
       "25%       -0.774367     -0.010124\n",
       "50%       -0.028735      0.051694\n",
       "75%        1.032812      0.097869\n",
       "max       39.364678      0.216782"
      ]
     },
     "execution_count": 114,
     "metadata": {},
     "output_type": "execute_result"
    }
   ],
   "source": [
    "(365*testdf).describe()"
   ]
  },
  {
   "cell_type": "code",
   "execution_count": 115,
   "metadata": {
    "colab": {},
    "colab_type": "code",
    "id": "6pFOwrro8WF3"
   },
   "outputs": [],
   "source": [
    "stestdf.columns = ['treasac', 'preds']"
   ]
  },
  {
   "cell_type": "code",
   "execution_count": 116,
   "metadata": {
    "colab": {
     "base_uri": "https://localhost:8080/",
     "height": 297
    },
    "colab_type": "code",
    "id": "qwHst7Xc8ayz",
    "outputId": "7104cf15-5d2e-426e-bb7b-c70fc0d717a9"
   },
   "outputs": [
    {
     "data": {
      "text/html": [
       "<div>\n",
       "<style scoped>\n",
       "    .dataframe tbody tr th:only-of-type {\n",
       "        vertical-align: middle;\n",
       "    }\n",
       "\n",
       "    .dataframe tbody tr th {\n",
       "        vertical-align: top;\n",
       "    }\n",
       "\n",
       "    .dataframe thead th {\n",
       "        text-align: right;\n",
       "    }\n",
       "</style>\n",
       "<table border=\"1\" class=\"dataframe\">\n",
       "  <thead>\n",
       "    <tr style=\"text-align: right;\">\n",
       "      <th></th>\n",
       "      <th>treasac</th>\n",
       "      <th>preds</th>\n",
       "    </tr>\n",
       "  </thead>\n",
       "  <tbody>\n",
       "    <tr>\n",
       "      <th>count</th>\n",
       "      <td>20329.000000</td>\n",
       "      <td>20329.000000</td>\n",
       "    </tr>\n",
       "    <tr>\n",
       "      <th>mean</th>\n",
       "      <td>0.041693</td>\n",
       "      <td>0.038313</td>\n",
       "    </tr>\n",
       "    <tr>\n",
       "      <th>std</th>\n",
       "      <td>3.078121</td>\n",
       "      <td>0.065174</td>\n",
       "    </tr>\n",
       "    <tr>\n",
       "      <th>min</th>\n",
       "      <td>-74.778625</td>\n",
       "      <td>-0.255568</td>\n",
       "    </tr>\n",
       "    <tr>\n",
       "      <th>25%</th>\n",
       "      <td>-0.774367</td>\n",
       "      <td>0.001742</td>\n",
       "    </tr>\n",
       "    <tr>\n",
       "      <th>50%</th>\n",
       "      <td>-0.028735</td>\n",
       "      <td>0.036050</td>\n",
       "    </tr>\n",
       "    <tr>\n",
       "      <th>75%</th>\n",
       "      <td>1.032812</td>\n",
       "      <td>0.070358</td>\n",
       "    </tr>\n",
       "    <tr>\n",
       "      <th>max</th>\n",
       "      <td>39.364678</td>\n",
       "      <td>0.244349</td>\n",
       "    </tr>\n",
       "  </tbody>\n",
       "</table>\n",
       "</div>"
      ],
      "text/plain": [
       "            treasac         preds\n",
       "count  20329.000000  20329.000000\n",
       "mean       0.041693      0.038313\n",
       "std        3.078121      0.065174\n",
       "min      -74.778625     -0.255568\n",
       "25%       -0.774367      0.001742\n",
       "50%       -0.028735      0.036050\n",
       "75%        1.032812      0.070358\n",
       "max       39.364678      0.244349"
      ]
     },
     "execution_count": 116,
     "metadata": {},
     "output_type": "execute_result"
    }
   ],
   "source": [
    "(365*stestdf).describe()"
   ]
  },
  {
   "cell_type": "markdown",
   "metadata": {
    "colab_type": "text",
    "id": "rrBTrTRamcVs"
   },
   "source": [
    "Now let us see what happens when we buy when the predicted value is a fair bit bigger than its median value, and sell if it is a fair bit *below* the median value (and stay in cash otherwise - in fact, this is an underestimate, since we would be in treasuries, and make some money):"
   ]
  },
  {
   "cell_type": "code",
   "execution_count": 117,
   "metadata": {
    "colab": {},
    "colab_type": "code",
    "id": "uTH6ecqHmcVs"
   },
   "outputs": [],
   "source": [
    "testdf['regressed'] = testdf.apply(lambda x:x['treasac'] if x['preds']>0.0002 else -x['treasac'] if x['preds']<-0.0002 else 0, axis=1)"
   ]
  },
  {
   "cell_type": "code",
   "execution_count": 118,
   "metadata": {
    "colab": {
     "base_uri": "https://localhost:8080/",
     "height": 286
    },
    "colab_type": "code",
    "id": "j1bX_o__mcVt",
    "outputId": "eceb5f64-c2c7-4069-aad7-61be6345d242"
   },
   "outputs": [
    {
     "data": {
      "text/plain": [
       "<matplotlib.axes._subplots.AxesSubplot at 0x1c2bc84e90>"
      ]
     },
     "execution_count": 118,
     "metadata": {},
     "output_type": "execute_result"
    },
    {
     "data": {
      "image/png": "[encoded data removed]",
      "text/plain": [
       "<Figure size 432x288 with 1 Axes>"
      ]
     },
     "metadata": {
      "needs_background": "light"
     },
     "output_type": "display_data"
    }
   ],
   "source": [
    "np.exp(testdf[['treasac', 'regressed']].cumsum()).plot()"
   ]
  },
  {
   "cell_type": "code",
   "execution_count": 119,
   "metadata": {},
   "outputs": [
    {
     "data": {
      "text/html": [
       "<div>\n",
       "<style scoped>\n",
       "    .dataframe tbody tr th:only-of-type {\n",
       "        vertical-align: middle;\n",
       "    }\n",
       "\n",
       "    .dataframe tbody tr th {\n",
       "        vertical-align: top;\n",
       "    }\n",
       "\n",
       "    .dataframe thead th {\n",
       "        text-align: right;\n",
       "    }\n",
       "</style>\n",
       "<table border=\"1\" class=\"dataframe\">\n",
       "  <thead>\n",
       "    <tr style=\"text-align: right;\">\n",
       "      <th></th>\n",
       "      <th>treasac</th>\n",
       "      <th>preds</th>\n",
       "      <th>regressed</th>\n",
       "    </tr>\n",
       "  </thead>\n",
       "  <tbody>\n",
       "    <tr>\n",
       "      <th>count</th>\n",
       "      <td>20329.000000</td>\n",
       "      <td>20329.000000</td>\n",
       "      <td>20329.000000</td>\n",
       "    </tr>\n",
       "    <tr>\n",
       "      <th>mean</th>\n",
       "      <td>0.000114</td>\n",
       "      <td>0.000105</td>\n",
       "      <td>0.000163</td>\n",
       "    </tr>\n",
       "    <tr>\n",
       "      <th>std</th>\n",
       "      <td>0.008433</td>\n",
       "      <td>0.000247</td>\n",
       "      <td>0.006045</td>\n",
       "    </tr>\n",
       "    <tr>\n",
       "      <th>min</th>\n",
       "      <td>-0.204873</td>\n",
       "      <td>-0.001081</td>\n",
       "      <td>-0.107848</td>\n",
       "    </tr>\n",
       "    <tr>\n",
       "      <th>25%</th>\n",
       "      <td>-0.002122</td>\n",
       "      <td>-0.000028</td>\n",
       "      <td>-0.000034</td>\n",
       "    </tr>\n",
       "    <tr>\n",
       "      <th>50%</th>\n",
       "      <td>-0.000079</td>\n",
       "      <td>0.000142</td>\n",
       "      <td>0.000000</td>\n",
       "    </tr>\n",
       "    <tr>\n",
       "      <th>75%</th>\n",
       "      <td>0.002830</td>\n",
       "      <td>0.000268</td>\n",
       "      <td>0.000000</td>\n",
       "    </tr>\n",
       "    <tr>\n",
       "      <th>max</th>\n",
       "      <td>0.107848</td>\n",
       "      <td>0.000594</td>\n",
       "      <td>0.090396</td>\n",
       "    </tr>\n",
       "  </tbody>\n",
       "</table>\n",
       "</div>"
      ],
      "text/plain": [
       "            treasac         preds     regressed\n",
       "count  20329.000000  20329.000000  20329.000000\n",
       "mean       0.000114      0.000105      0.000163\n",
       "std        0.008433      0.000247      0.006045\n",
       "min       -0.204873     -0.001081     -0.107848\n",
       "25%       -0.002122     -0.000028     -0.000034\n",
       "50%       -0.000079      0.000142      0.000000\n",
       "75%        0.002830      0.000268      0.000000\n",
       "max        0.107848      0.000594      0.090396"
      ]
     },
     "execution_count": 119,
     "metadata": {},
     "output_type": "execute_result"
    }
   ],
   "source": [
    "testdf.describe()"
   ]
  },
  {
   "cell_type": "code",
   "execution_count": 122,
   "metadata": {
    "colab": {},
    "colab_type": "code",
    "id": "raH3Zv7j8rv5"
   },
   "outputs": [],
   "source": [
    "stestdf['regressed'] = stestdf.apply(lambda x:x['treasac'] if x['preds']>0.00002 else -x['treasac'] if x['preds']<-0.00002 else 0, axis=1)"
   ]
  },
  {
   "cell_type": "code",
   "execution_count": 123,
   "metadata": {},
   "outputs": [
    {
     "data": {
      "text/html": [
       "<div>\n",
       "<style scoped>\n",
       "    .dataframe tbody tr th:only-of-type {\n",
       "        vertical-align: middle;\n",
       "    }\n",
       "\n",
       "    .dataframe tbody tr th {\n",
       "        vertical-align: top;\n",
       "    }\n",
       "\n",
       "    .dataframe thead th {\n",
       "        text-align: right;\n",
       "    }\n",
       "</style>\n",
       "<table border=\"1\" class=\"dataframe\">\n",
       "  <thead>\n",
       "    <tr style=\"text-align: right;\">\n",
       "      <th></th>\n",
       "      <th>treasac</th>\n",
       "      <th>preds</th>\n",
       "      <th>regressed</th>\n",
       "    </tr>\n",
       "  </thead>\n",
       "  <tbody>\n",
       "    <tr>\n",
       "      <th>count</th>\n",
       "      <td>20329.000000</td>\n",
       "      <td>20329.000000</td>\n",
       "      <td>20329.000000</td>\n",
       "    </tr>\n",
       "    <tr>\n",
       "      <th>mean</th>\n",
       "      <td>0.000114</td>\n",
       "      <td>0.000105</td>\n",
       "      <td>0.000168</td>\n",
       "    </tr>\n",
       "    <tr>\n",
       "      <th>std</th>\n",
       "      <td>0.008433</td>\n",
       "      <td>0.000179</td>\n",
       "      <td>0.007879</td>\n",
       "    </tr>\n",
       "    <tr>\n",
       "      <th>min</th>\n",
       "      <td>-0.204873</td>\n",
       "      <td>-0.000700</td>\n",
       "      <td>-0.107848</td>\n",
       "    </tr>\n",
       "    <tr>\n",
       "      <th>25%</th>\n",
       "      <td>-0.002122</td>\n",
       "      <td>0.000005</td>\n",
       "      <td>-0.001340</td>\n",
       "    </tr>\n",
       "    <tr>\n",
       "      <th>50%</th>\n",
       "      <td>-0.000079</td>\n",
       "      <td>0.000099</td>\n",
       "      <td>-0.000001</td>\n",
       "    </tr>\n",
       "    <tr>\n",
       "      <th>75%</th>\n",
       "      <td>0.002830</td>\n",
       "      <td>0.000193</td>\n",
       "      <td>0.001934</td>\n",
       "    </tr>\n",
       "    <tr>\n",
       "      <th>max</th>\n",
       "      <td>0.107848</td>\n",
       "      <td>0.000669</td>\n",
       "      <td>0.204873</td>\n",
       "    </tr>\n",
       "  </tbody>\n",
       "</table>\n",
       "</div>"
      ],
      "text/plain": [
       "            treasac         preds     regressed\n",
       "count  20329.000000  20329.000000  20329.000000\n",
       "mean       0.000114      0.000105      0.000168\n",
       "std        0.008433      0.000179      0.007879\n",
       "min       -0.204873     -0.000700     -0.107848\n",
       "25%       -0.002122      0.000005     -0.001340\n",
       "50%       -0.000079      0.000099     -0.000001\n",
       "75%        0.002830      0.000193      0.001934\n",
       "max        0.107848      0.000669      0.204873"
      ]
     },
     "execution_count": 123,
     "metadata": {},
     "output_type": "execute_result"
    }
   ],
   "source": [
    "stestdf.describe()"
   ]
  },
  {
   "cell_type": "code",
   "execution_count": 124,
   "metadata": {
    "colab": {
     "base_uri": "https://localhost:8080/",
     "height": 286
    },
    "colab_type": "code",
    "id": "ll1FGazq8x4A",
    "outputId": "004b3e5e-25b7-4e9f-d82f-b884a9f98265"
   },
   "outputs": [
    {
     "data": {
      "text/plain": [
       "<matplotlib.axes._subplots.AxesSubplot at 0x1c2c68f650>"
      ]
     },
     "execution_count": 124,
     "metadata": {},
     "output_type": "execute_result"
    },
    {
     "data": {
      "image/png": "[encoded data removed]",
      "text/plain": [
       "<Figure size 432x288 with 1 Axes>"
      ]
     },
     "metadata": {
      "needs_background": "light"
     },
     "output_type": "display_data"
    }
   ],
   "source": [
    "np.exp(stestdf[['treasac', 'regressed']].cumsum()).plot()"
   ]
  },
  {
   "cell_type": "markdown",
   "metadata": {
    "colab_type": "text",
    "id": "gJzdBFt5mcVu"
   },
   "source": [
    "We see that we would outperform the market by close to a factor of five (over 55 years). To drive the point home, let us see how the \"above the median\" and \"below the median\" periods are distributed."
   ]
  },
  {
   "cell_type": "code",
   "execution_count": 125,
   "metadata": {
    "colab": {},
    "colab_type": "code",
    "id": "clCRF_5smcVv"
   },
   "outputs": [],
   "source": [
    "testdf['cumret']=testdf.treasac.cumsum()\n",
    "testdf['col'] = testdf.preds.map(lambda x: 1.0 if x > 0.000132 else 0.0)\n",
    "stestdf['cumret']=stestdf.treasac.cumsum()\n",
    "stestdf['col'] = stestdf.preds.map(lambda x: 1.0 if x > 0.000132 else 0.0)"
   ]
  },
  {
   "cell_type": "code",
   "execution_count": 126,
   "metadata": {
    "colab": {},
    "colab_type": "code",
    "id": "chb6qBJfmcVv"
   },
   "outputs": [],
   "source": [
    "def scatterplot(x_data, y_data, color_data,x_label, y_label, title, colormap='viridis'):\n",
    "    fig, ax = plt.subplots()\n",
    "    ax.scatter(x_data, y_data, s=10,c = color_data, alpha = 0.75)\n",
    "\n",
    "    ax.set_title(title)\n",
    "    ax.set_xlabel(x_label)\n",
    "    ax.set_ylabel(y_label)\n",
    "    fig.autofmt_xdate()"
   ]
  },
  {
   "cell_type": "code",
   "execution_count": 127,
   "metadata": {
    "colab": {
     "base_uri": "https://localhost:8080/",
     "height": 285
    },
    "colab_type": "code",
    "id": "KHyzqOiXmcVw",
    "outputId": "70fda218-8da0-4e3a-ddd3-b55a2018c723"
   },
   "outputs": [
    {
     "data": {
      "image/png": "[encoded data removed]",
      "text/plain": [
       "<Figure size 432x288 with 1 Axes>"
      ]
     },
     "metadata": {
      "needs_background": "light"
     },
     "output_type": "display_data"
    }
   ],
   "source": [
    "scatterplot(testdf.index, testdf.cumret, testdf.col, 'Date', 'Log return', 'Regression Results')"
   ]
  },
  {
   "cell_type": "code",
   "execution_count": 128,
   "metadata": {
    "colab": {
     "base_uri": "https://localhost:8080/",
     "height": 285
    },
    "colab_type": "code",
    "id": "Whdn2YnZ9scd",
    "outputId": "649019a7-dd74-4b90-dcef-289fea2712ea"
   },
   "outputs": [
    {
     "data": {
      "image/png": "[encoded data removed]",
      "text/plain": [
       "<Figure size 432x288 with 1 Axes>"
      ]
     },
     "metadata": {
      "needs_background": "light"
     },
     "output_type": "display_data"
    }
   ],
   "source": [
    "scatterplot(stestdf.index, stestdf.cumret, stestdf.col, 'Date', 'Log return', 'Regression Results')"
   ]
  },
  {
   "cell_type": "markdown",
   "metadata": {
    "colab_type": "text",
    "id": "pvNlu3VKmcVx"
   },
   "source": [
    "## Some general reflections"
   ]
  },
  {
   "cell_type": "markdown",
   "metadata": {
    "colab_type": "text",
    "id": "qr8An_nfmcVx"
   },
   "source": [
    "First, we look at the cumulative (log) of the (dividend reinvested) return of the S&P 500."
   ]
  },
  {
   "cell_type": "code",
   "execution_count": 0,
   "metadata": {
    "colab": {},
    "colab_type": "code",
    "id": "AiRaFe1pmcVx",
    "outputId": "b519efa1-1dec-4e18-fe6a-e03cb35ed7ad"
   },
   "outputs": [
    {
     "data": {
      "text/plain": [
       "<matplotlib.axes._subplots.AxesSubplot at 0x22e573d82e8>"
      ]
     },
     "execution_count": 145,
     "metadata": {
      "tags": []
     },
     "output_type": "execute_result"
    },
    {
     "data": {
      "image/png": "[encoded data removed]",
      "text/plain": [
       "<Figure size 432x288 with 1 Axes>"
      ]
     },
     "metadata": {
      "needs_background": "light",
      "tags": []
     },
     "output_type": "display_data"
    }
   ],
   "source": [
    "newsandpa.totret.cumsum().plot()"
   ]
  },
  {
   "cell_type": "markdown",
   "metadata": {
    "colab_type": "text",
    "id": "lnNVt9iUmcVy"
   },
   "source": [
    "Looks awfully straight, so let's look at a longer history from the shiller data:"
   ]
  },
  {
   "cell_type": "code",
   "execution_count": 0,
   "metadata": {
    "colab": {},
    "colab_type": "code",
    "id": "O1WgJOfHmcVy"
   },
   "outputs": [],
   "source": [
    "shiller['totret'] = shiller.P.pct_change() + shiller.perdiv"
   ]
  },
  {
   "cell_type": "code",
   "execution_count": 0,
   "metadata": {
    "colab": {},
    "colab_type": "code",
    "id": "kHQIkkvSmcVy",
    "outputId": "48a7fa5e-7dd5-43db-fe48-6eb110f6a8a2"
   },
   "outputs": [
    {
     "data": {
      "text/plain": [
       "<matplotlib.axes._subplots.AxesSubplot at 0x1f6599aeac8>"
      ]
     },
     "execution_count": 180,
     "metadata": {
      "tags": []
     },
     "output_type": "execute_result"
    },
    {
     "data": {
      "image/png": "[encoded data removed]",
      "text/plain": [
       "<Figure size 432x288 with 1 Axes>"
      ]
     },
     "metadata": {
      "needs_background": "light",
      "tags": []
     },
     "output_type": "display_data"
    }
   ],
   "source": [
    "shiller.totret.cumsum().plot()"
   ]
  },
  {
   "cell_type": "markdown",
   "metadata": {
    "colab_type": "text",
    "id": "Oa1MV2ommcVz"
   },
   "source": [
    "Still looks pretty straight... Let's do a regression, and see how straight..."
   ]
  },
  {
   "cell_type": "code",
   "execution_count": 0,
   "metadata": {
    "colab": {},
    "colab_type": "code",
    "id": "ZBW0WD-0mcVz"
   },
   "outputs": [],
   "source": [
    "shiller['dummy'] = list(range(len(shiller)))"
   ]
  },
  {
   "cell_type": "code",
   "execution_count": 0,
   "metadata": {
    "colab": {},
    "colab_type": "code",
    "id": "kBvXZtx0mcV1"
   },
   "outputs": [],
   "source": [
    "shiller.dropna(inplace=True)"
   ]
  },
  {
   "cell_type": "code",
   "execution_count": 0,
   "metadata": {
    "colab": {},
    "colab_type": "code",
    "id": "htv1MORTmcV1"
   },
   "outputs": [],
   "source": [
    "sreg = sklearn.linear_model.LinearRegression()"
   ]
  },
  {
   "cell_type": "code",
   "execution_count": 0,
   "metadata": {
    "colab": {},
    "colab_type": "code",
    "id": "2Rjik_xFmcV2",
    "outputId": "bc3c4a66-d599-4f75-e081-d6c7450fd435"
   },
   "outputs": [
    {
     "data": {
      "text/plain": [
       "LinearRegression(copy_X=True, fit_intercept=True, n_jobs=None,\n",
       "         normalize=False)"
      ]
     },
     "execution_count": 184,
     "metadata": {
      "tags": []
     },
     "output_type": "execute_result"
    }
   ],
   "source": [
    "sreg.fit(shiller[['dummy']], shiller[['totret']].cumsum())"
   ]
  },
  {
   "cell_type": "code",
   "execution_count": 0,
   "metadata": {
    "colab": {},
    "colab_type": "code",
    "id": "moetKr_HmcV3",
    "outputId": "67197ea7-78eb-4cc8-9eb6-fbc4cae46f9c"
   },
   "outputs": [
    {
     "data": {
      "text/plain": [
       "array([[0.00028357]])"
      ]
     },
     "execution_count": 185,
     "metadata": {
      "tags": []
     },
     "output_type": "execute_result"
    }
   ],
   "source": [
    "sreg.coef_"
   ]
  },
  {
   "cell_type": "code",
   "execution_count": 0,
   "metadata": {
    "colab": {},
    "colab_type": "code",
    "id": "uLDvGB3RmcV4",
    "outputId": "5e712fd7-8bed-4b82-dc24-b3ceb1c16a48"
   },
   "outputs": [
    {
     "data": {
      "text/plain": [
       "0.9901422237103686"
      ]
     },
     "execution_count": 186,
     "metadata": {
      "tags": []
     },
     "output_type": "execute_result"
    }
   ],
   "source": [
    "sreg.score(shiller[['dummy']], shiller[['totret']].cumsum())"
   ]
  },
  {
   "cell_type": "markdown",
   "metadata": {
    "colab_type": "text",
    "id": "C-bqkoYwmcV5"
   },
   "source": [
    "We see an $R^2$ of 99%."
   ]
  },
  {
   "cell_type": "markdown",
   "metadata": {
    "colab_type": "text",
    "id": "OyLpusZEmcV5"
   },
   "source": [
    "The series above was not inflation adjusted..."
   ]
  },
  {
   "cell_type": "code",
   "execution_count": 0,
   "metadata": {
    "colab": {},
    "colab_type": "code",
    "id": "YGQzBNGbmcV5"
   },
   "outputs": [],
   "source": [
    "shiller['deflated'] = shiller.totret.cumsum() - np.log(shiller.CPI)"
   ]
  },
  {
   "cell_type": "code",
   "execution_count": 0,
   "metadata": {
    "colab": {},
    "colab_type": "code",
    "id": "1jO7y7P-mcV6",
    "outputId": "ff988eeb-0b14-428c-bb3a-5a0ed71354aa"
   },
   "outputs": [
    {
     "data": {
      "text/plain": [
       "<matplotlib.axes._subplots.AxesSubplot at 0x1f657198668>"
      ]
     },
     "execution_count": 188,
     "metadata": {
      "tags": []
     },
     "output_type": "execute_result"
    },
    {
     "data": {
      "image/png": "[encoded data removed]",
      "text/plain": [
       "<Figure size 432x288 with 1 Axes>"
      ]
     },
     "metadata": {
      "needs_background": "light",
      "tags": []
     },
     "output_type": "display_data"
    }
   ],
   "source": [
    "shiller.deflated.plot()"
   ]
  },
  {
   "cell_type": "code",
   "execution_count": 0,
   "metadata": {
    "colab": {},
    "colab_type": "code",
    "id": "qERsMNYdmcV6"
   },
   "outputs": [],
   "source": [
    "sreg = sklearn.linear_model.LinearRegression()"
   ]
  },
  {
   "cell_type": "code",
   "execution_count": 0,
   "metadata": {
    "colab": {},
    "colab_type": "code",
    "id": "YYwJYfcdmcV7",
    "outputId": "94993289-9de3-4743-c653-4626147c7334"
   },
   "outputs": [
    {
     "data": {
      "text/plain": [
       "LinearRegression(copy_X=True, fit_intercept=True, n_jobs=None,\n",
       "         normalize=False)"
      ]
     },
     "execution_count": 190,
     "metadata": {
      "tags": []
     },
     "output_type": "execute_result"
    }
   ],
   "source": [
    "sreg.fit(shiller[['dummy']], shiller[['deflated']].cumsum())"
   ]
  },
  {
   "cell_type": "code",
   "execution_count": 0,
   "metadata": {
    "colab": {},
    "colab_type": "code",
    "id": "P6jOClFAmcV7",
    "outputId": "570299d5-2ac9-4bea-c921-049f4f743170"
   },
   "outputs": [
    {
     "data": {
      "text/plain": [
       "0.7789264906230998"
      ]
     },
     "execution_count": 191,
     "metadata": {
      "tags": []
     },
     "output_type": "execute_result"
    }
   ],
   "source": [
    "sreg.score(shiller[['dummy']], shiller[['deflated']].cumsum())"
   ]
  },
  {
   "cell_type": "markdown",
   "metadata": {
    "colab_type": "text",
    "id": "jcVXr9fvmcV8"
   },
   "source": [
    "We notice that the scare has gone way down, showing that the Fed's efforts to control inflation are having limited success."
   ]
  },
  {
   "cell_type": "code",
   "execution_count": 0,
   "metadata": {
    "colab": {},
    "colab_type": "code",
    "id": "zZ0tFp9nmcV8"
   },
   "outputs": [],
   "source": [
    "shiller['inflation'] = shiller.CPI.pct_change()"
   ]
  },
  {
   "cell_type": "code",
   "execution_count": 0,
   "metadata": {
    "colab": {},
    "colab_type": "code",
    "id": "tv1WDanSmcV9",
    "outputId": "834d403f-deef-4691-9b16-8ab06e19c728"
   },
   "outputs": [
    {
     "data": {
      "text/plain": [
       "<matplotlib.axes._subplots.AxesSubplot at 0x1f656c42a90>"
      ]
     },
     "execution_count": 193,
     "metadata": {
      "tags": []
     },
     "output_type": "execute_result"
    },
    {
     "data": {
      "image/png": "[encoded data removed]",
      "text/plain": [
       "<Figure size 432x288 with 1 Axes>"
      ]
     },
     "metadata": {
      "needs_background": "light",
      "tags": []
     },
     "output_type": "display_data"
    }
   ],
   "source": [
    "shiller.inflation.plot()"
   ]
  },
  {
   "cell_type": "markdown",
   "metadata": {
    "colab_type": "text",
    "id": "-ubOE_XtmcV-"
   },
   "source": [
    "We see that the Fed (in the postwar years) has had great success in controlling *deflation* In truth, the volatility of the CPI has gone a fair bit down, but at the cost of a steady debasement of currency."
   ]
  },
  {
   "cell_type": "code",
   "execution_count": 0,
   "metadata": {
    "colab": {},
    "colab_type": "code",
    "id": "ALgY_FFemcV-",
    "outputId": "fae52347-dc2e-4693-8517-d580e8a50c7b"
   },
   "outputs": [
    {
     "data": {
      "text/plain": [
       "<matplotlib.axes._subplots.AxesSubplot at 0x1f65d371cc0>"
      ]
     },
     "execution_count": 195,
     "metadata": {
      "tags": []
     },
     "output_type": "execute_result"
    },
    {
     "data": {
      "image/png": "[encoded data removed]",
      "text/plain": [
       "<Figure size 432x288 with 1 Axes>"
      ]
     },
     "metadata": {
      "needs_background": "light",
      "tags": []
     },
     "output_type": "display_data"
    }
   ],
   "source": [
    "np.log(shiller.CPI).plot()"
   ]
  },
  {
   "cell_type": "markdown",
   "metadata": {
    "colab_type": "text",
    "id": "Kis2vS_SmcV_"
   },
   "source": [
    "In post-war years, there is steady success in debasing the currency."
   ]
  },
  {
   "cell_type": "code",
   "execution_count": 129,
   "metadata": {
    "colab": {},
    "colab_type": "code",
    "id": "JegGeqha-MFX"
   },
   "outputs": [],
   "source": [
    "testdf.to_csv('testout.csv')"
   ]
  },
  {
   "cell_type": "code",
   "execution_count": 130,
   "metadata": {
    "colab": {},
    "colab_type": "code",
    "id": "O9C_s5qZ-TtF"
   },
   "outputs": [],
   "source": [
    "stestdf.to_csv('stestout.csv')"
   ]
  },
  {
   "cell_type": "code",
   "execution_count": 0,
   "metadata": {
    "colab": {},
    "colab_type": "code",
    "id": "uw1PuYVZ_RLt"
   },
   "outputs": [],
   "source": []
  }
 ],
 "metadata": {
  "colab": {
   "name": "macropaper.ipynb",
   "provenance": []
  },
  "kernelspec": {
   "display_name": "Python 3",
   "language": "python",
   "name": "python3"
  },
  "language_info": {
   "codemirror_mode": {
    "name": "ipython",
    "version": 3
   },
   "file_extension": ".py",
   "mimetype": "text/x-python",
   "name": "python",
   "nbconvert_exporter": "python",
   "pygments_lexer": "ipython3",
   "version": "3.7.6"
  }
 },
 "nbformat": 4,
 "nbformat_minor": 1
}
